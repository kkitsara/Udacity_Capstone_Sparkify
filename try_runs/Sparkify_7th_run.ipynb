{
 "cells": [
  {
   "cell_type": "markdown",
   "metadata": {},
   "source": [
    "# Sparkify Project Workspace\n",
    "This workspace contains a tiny subset (128MB) of the full dataset available (12GB). Feel free to use this workspace to build your project, or to explore a smaller subset with Spark before deploying your cluster on the cloud. Instructions for setting up your Spark cluster is included in the last lesson of the Extracurricular Spark Course content.\n",
    "\n",
    "You can follow the steps below to guide your data analysis and model building portion of this project."
   ]
  },
  {
   "cell_type": "code",
   "execution_count": 9,
   "metadata": {},
   "outputs": [],
   "source": [
    "# import libraries\n",
    "from pyspark.sql import SparkSession\n",
    "import pandas as pd\n",
    "from pyspark.sql.functions import isnan, when, count, col, countDistinct, to_timestamp\n",
    "from pyspark.sql import functions as F\n",
    "import matplotlib.pyplot as plt\n",
    "import seaborn as sns\n",
    "from pyspark.ml.feature import MinMaxScaler, VectorAssembler\n",
    "from pyspark.sql.types import IntegerType\n",
    "from pyspark.ml import Pipeline\n",
    "from pyspark.ml.classification import LogisticRegression, RandomForestClassifier, LinearSVC, GBTClassifier\n",
    "from pyspark.ml.evaluation import  MulticlassClassificationEvaluator\n",
    "from pyspark.ml.tuning import CrossValidator, ParamGridBuilder"
   ]
  },
  {
   "cell_type": "code",
   "execution_count": 10,
   "metadata": {},
   "outputs": [],
   "source": [
    "# create a Spark session\n",
    "spark = SparkSession \\\n",
    "    .builder \\\n",
    "    .appName(\"Python Spark SQL\") \\\n",
    "    .getOrCreate()"
   ]
  },
  {
   "cell_type": "markdown",
   "metadata": {},
   "source": [
    "# Load and Clean Dataset\n",
    "In this workspace, the mini-dataset file is `mini_sparkify_event_data.json`. Load and clean the dataset, checking for invalid or missing data - for example, records without userids or sessionids. "
   ]
  },
  {
   "cell_type": "code",
   "execution_count": 11,
   "metadata": {},
   "outputs": [],
   "source": [
    "df = spark.read.json('mini_sparkify_event_data.json')"
   ]
  },
  {
   "cell_type": "code",
   "execution_count": 12,
   "metadata": {},
   "outputs": [
    {
     "name": "stdout",
     "output_type": "stream",
     "text": [
      "+----------------+---------+---------+------+-------------+--------+---------+-----+--------------------+------+--------+-------------+---------+--------------------+------+-------------+--------------------+------+\n",
      "|          artist|     auth|firstName|gender|itemInSession|lastName|   length|level|            location|method|    page| registration|sessionId|                song|status|           ts|           userAgent|userId|\n",
      "+----------------+---------+---------+------+-------------+--------+---------+-----+--------------------+------+--------+-------------+---------+--------------------+------+-------------+--------------------+------+\n",
      "|  Martha Tilston|Logged In|    Colin|     M|           50| Freeman|277.89016| paid|     Bakersfield, CA|   PUT|NextSong|1538173362000|       29|           Rockpools|   200|1538352117000|Mozilla/5.0 (Wind...|    30|\n",
      "|Five Iron Frenzy|Logged In|    Micah|     M|           79|    Long|236.09424| free|Boston-Cambridge-...|   PUT|NextSong|1538331630000|        8|              Canada|   200|1538352180000|\"Mozilla/5.0 (Win...|     9|\n",
      "|    Adam Lambert|Logged In|    Colin|     M|           51| Freeman| 282.8273| paid|     Bakersfield, CA|   PUT|NextSong|1538173362000|       29|   Time For Miracles|   200|1538352394000|Mozilla/5.0 (Wind...|    30|\n",
      "|          Enigma|Logged In|    Micah|     M|           80|    Long|262.71302| free|Boston-Cambridge-...|   PUT|NextSong|1538331630000|        8|Knocking On Forbi...|   200|1538352416000|\"Mozilla/5.0 (Win...|     9|\n",
      "|       Daft Punk|Logged In|    Colin|     M|           52| Freeman|223.60771| paid|     Bakersfield, CA|   PUT|NextSong|1538173362000|       29|Harder Better Fas...|   200|1538352676000|Mozilla/5.0 (Wind...|    30|\n",
      "+----------------+---------+---------+------+-------------+--------+---------+-----+--------------------+------+--------+-------------+---------+--------------------+------+-------------+--------------------+------+\n",
      "only showing top 5 rows\n",
      "\n"
     ]
    }
   ],
   "source": [
    "df.show(5)"
   ]
  },
  {
   "cell_type": "code",
   "execution_count": 13,
   "metadata": {},
   "outputs": [
    {
     "name": "stdout",
     "output_type": "stream",
     "text": [
      "(286500, 18)\n"
     ]
    }
   ],
   "source": [
    "print((df.count(), len(df.columns)))"
   ]
  },
  {
   "cell_type": "code",
   "execution_count": 14,
   "metadata": {
    "scrolled": false
   },
   "outputs": [
    {
     "name": "stdout",
     "output_type": "stream",
     "text": [
      "+------+----+---------+------+-------------+--------+------+-----+--------+------+----+------------+---------+-----+------+---+---------+------+\n",
      "|artist|auth|firstName|gender|itemInSession|lastName|length|level|location|method|page|registration|sessionId| song|status| ts|userAgent|userId|\n",
      "+------+----+---------+------+-------------+--------+------+-----+--------+------+----+------------+---------+-----+------+---+---------+------+\n",
      "| 58392|   0|     8346|  8346|            0|    8346| 58392|    0|    8346|     0|   0|        8346|        0|58392|     0|  0|     8346|     0|\n",
      "+------+----+---------+------+-------------+--------+------+-----+--------+------+----+------------+---------+-----+------+---+---------+------+\n",
      "\n"
     ]
    }
   ],
   "source": [
    "df.select([count(when(isnan(c) | col(c).isNull(), c)).alias(c) for c in df.columns]).show()"
   ]
  },
  {
   "cell_type": "code",
   "execution_count": 15,
   "metadata": {},
   "outputs": [
    {
     "data": {
      "text/plain": [
       "115"
      ]
     },
     "execution_count": 15,
     "metadata": {},
     "output_type": "execute_result"
    }
   ],
   "source": [
    "df.select(col('location')).groupBy('location').count().count()"
   ]
  },
  {
   "cell_type": "code",
   "execution_count": 16,
   "metadata": {
    "scrolled": false
   },
   "outputs": [
    {
     "name": "stdout",
     "output_type": "stream",
     "text": [
      "\u001b[1mauth\u001b[0m\n",
      "+----------+------+\n",
      "|auth      |count |\n",
      "+----------+------+\n",
      "|Logged Out|8249  |\n",
      "|Cancelled |52    |\n",
      "|Guest     |97    |\n",
      "|Logged In |278102|\n",
      "+----------+------+\n",
      "\n",
      "None\n",
      "\u001b[1mgender\u001b[0m\n",
      "+------+------+\n",
      "|gender|count |\n",
      "+------+------+\n",
      "|F     |154578|\n",
      "|null  |8346  |\n",
      "|M     |123576|\n",
      "+------+------+\n",
      "\n",
      "None\n",
      "\u001b[1mlevel\u001b[0m\n",
      "+-----+------+\n",
      "|level|count |\n",
      "+-----+------+\n",
      "|free |58338 |\n",
      "|paid |228162|\n",
      "+-----+------+\n",
      "\n",
      "None\n",
      "\u001b[1mmethod\u001b[0m\n",
      "+------+------+\n",
      "|method|count |\n",
      "+------+------+\n",
      "|PUT   |261064|\n",
      "|GET   |25436 |\n",
      "+------+------+\n",
      "\n",
      "None\n",
      "\u001b[1mpage\u001b[0m\n",
      "+-------------------------+------+\n",
      "|page                     |count |\n",
      "+-------------------------+------+\n",
      "|Cancel                   |52    |\n",
      "|Submit Downgrade         |63    |\n",
      "|Thumbs Down              |2546  |\n",
      "|Home                     |14457 |\n",
      "|Downgrade                |2055  |\n",
      "|Roll Advert              |3933  |\n",
      "|Logout                   |3226  |\n",
      "|Save Settings            |310   |\n",
      "|Cancellation Confirmation|52    |\n",
      "|About                    |924   |\n",
      "|Submit Registration      |5     |\n",
      "|Settings                 |1514  |\n",
      "|Login                    |3241  |\n",
      "|Register                 |18    |\n",
      "|Add to Playlist          |6526  |\n",
      "|Add Friend               |4277  |\n",
      "|NextSong                 |228108|\n",
      "|Thumbs Up                |12551 |\n",
      "|Help                     |1726  |\n",
      "|Upgrade                  |499   |\n",
      "|Error                    |258   |\n",
      "|Submit Upgrade           |159   |\n",
      "+-------------------------+------+\n",
      "\n",
      "None\n",
      "\u001b[1mstatus\u001b[0m\n",
      "+------+------+\n",
      "|status|count |\n",
      "+------+------+\n",
      "|307   |26430 |\n",
      "|404   |258   |\n",
      "|200   |259812|\n",
      "+------+------+\n",
      "\n",
      "None\n"
     ]
    }
   ],
   "source": [
    "for column in df.columns:\n",
    "    if df.select(col(column)).groupBy(column).count().count()<30:\n",
    "        print('\\033[1m' + column + '\\033[0m') , print(df.select(col(column)).groupBy(column).count().show(30, False))"
   ]
  },
  {
   "cell_type": "code",
   "execution_count": 17,
   "metadata": {},
   "outputs": [
    {
     "name": "stdout",
     "output_type": "stream",
     "text": [
      "+----------+-----+\n",
      "|      auth|count|\n",
      "+----------+-----+\n",
      "|Logged Out| 8249|\n",
      "|     Guest|   97|\n",
      "+----------+-----+\n",
      "\n"
     ]
    }
   ],
   "source": [
    "df.where(col(\"firstName\").isNull()).select(col('auth')).groupBy('auth').count().show()"
   ]
  },
  {
   "cell_type": "code",
   "execution_count": 18,
   "metadata": {},
   "outputs": [
    {
     "name": "stdout",
     "output_type": "stream",
     "text": [
      "+-----+-----+\n",
      "|level|count|\n",
      "+-----+-----+\n",
      "| free| 2617|\n",
      "| paid| 5729|\n",
      "+-----+-----+\n",
      "\n"
     ]
    }
   ],
   "source": [
    "df.where(col(\"firstName\").isNull()).select(col('level')).groupBy('level').count().show()"
   ]
  },
  {
   "cell_type": "code",
   "execution_count": 19,
   "metadata": {},
   "outputs": [
    {
     "name": "stdout",
     "output_type": "stream",
     "text": [
      "+-------------------+-----+\n",
      "|               page|count|\n",
      "+-------------------+-----+\n",
      "|               Home| 4375|\n",
      "|              About|  429|\n",
      "|Submit Registration|    5|\n",
      "|              Login| 3241|\n",
      "|           Register|   18|\n",
      "|               Help|  272|\n",
      "|              Error|    6|\n",
      "+-------------------+-----+\n",
      "\n"
     ]
    }
   ],
   "source": [
    "df.where(col(\"firstName\").isNull()).select(col('page')).groupBy('page').count().show()"
   ]
  },
  {
   "cell_type": "code",
   "execution_count": 20,
   "metadata": {},
   "outputs": [
    {
     "name": "stdout",
     "output_type": "stream",
     "text": [
      "+--------+------+\n",
      "|    page| count|\n",
      "+--------+------+\n",
      "|NextSong|228108|\n",
      "+--------+------+\n",
      "\n"
     ]
    }
   ],
   "source": [
    "df.where(col(\"artist\").isNotNull()).select(col('page')).groupBy('page').count().show()"
   ]
  },
  {
   "cell_type": "code",
   "execution_count": 21,
   "metadata": {},
   "outputs": [
    {
     "name": "stdout",
     "output_type": "stream",
     "text": [
      "+--------------------+-----+\n",
      "|                page|count|\n",
      "+--------------------+-----+\n",
      "|              Cancel|   52|\n",
      "|    Submit Downgrade|   63|\n",
      "|         Thumbs Down| 2546|\n",
      "|                Home|14457|\n",
      "|           Downgrade| 2055|\n",
      "|         Roll Advert| 3933|\n",
      "|              Logout| 3226|\n",
      "|       Save Settings|  310|\n",
      "|Cancellation Conf...|   52|\n",
      "|               About|  924|\n",
      "| Submit Registration|    5|\n",
      "|            Settings| 1514|\n",
      "|               Login| 3241|\n",
      "|            Register|   18|\n",
      "|     Add to Playlist| 6526|\n",
      "|          Add Friend| 4277|\n",
      "|           Thumbs Up|12551|\n",
      "|                Help| 1726|\n",
      "|             Upgrade|  499|\n",
      "|               Error|  258|\n",
      "+--------------------+-----+\n",
      "only showing top 20 rows\n",
      "\n"
     ]
    }
   ],
   "source": [
    "df.where(col(\"artist\").isNull()).select(col('page')).groupBy('page').count().show()"
   ]
  },
  {
   "cell_type": "markdown",
   "metadata": {},
   "source": [
    "We have 2 different types of missing values. \n",
    "\n",
    "1. Missing user data for 8346 entries. From the analysis above it seems that the users that have null data are users that have not logged in the app yet. As these events cannot be correlated with the userId, we cannot use them, so we will drop them\n",
    "2. Mssing song data for 58392 entries. From the analysis above it seems that the missing songs are reasonable. The song data are populated only in case the page is the NextSong page, so we will keep all these entries for now"
   ]
  },
  {
   "cell_type": "code",
   "execution_count": 22,
   "metadata": {},
   "outputs": [],
   "source": [
    "df = df.na.drop(subset=[\"firstName\"])"
   ]
  },
  {
   "cell_type": "code",
   "execution_count": 23,
   "metadata": {},
   "outputs": [
    {
     "name": "stdout",
     "output_type": "stream",
     "text": [
      "+------+----+---------+------+-------------+--------+------+-----+--------+------+----+------------+---------+-----+------+---+---------+------+\n",
      "|artist|auth|firstName|gender|itemInSession|lastName|length|level|location|method|page|registration|sessionId| song|status| ts|userAgent|userId|\n",
      "+------+----+---------+------+-------------+--------+------+-----+--------+------+----+------------+---------+-----+------+---+---------+------+\n",
      "| 50046|   0|        0|     0|            0|       0| 50046|    0|       0|     0|   0|           0|        0|50046|     0|  0|        0|     0|\n",
      "+------+----+---------+------+-------------+--------+------+-----+--------+------+----+------------+---------+-----+------+---+---------+------+\n",
      "\n"
     ]
    }
   ],
   "source": [
    "df.select([count(when(isnan(c) | col(c).isNull(), c)).alias(c) for c in df.columns]).show()"
   ]
  },
  {
   "cell_type": "markdown",
   "metadata": {},
   "source": [
    "# Exploratory Data Analysis\n",
    "When you're working with the full dataset, perform EDA by loading a small subset of the data and doing basic manipulations within Spark. In this workspace, you are already provided a small subset of data you can explore.\n",
    "\n",
    "### Define Churn\n",
    "\n",
    "Once you've done some preliminary analysis, create a column `Churn` to use as the label for your model. I suggest using the `Cancellation Confirmation` events to define your churn, which happen for both paid and free users. As a bonus task, you can also look into the `Downgrade` events.\n",
    "\n",
    "### Explore Data\n",
    "Once you've defined churn, perform some exploratory data analysis to observe the behavior for users who stayed vs users who churned. You can start by exploring aggregates on these two groups of users, observing how much of a specific action they experienced per a certain time unit or number of songs played."
   ]
  },
  {
   "cell_type": "code",
   "execution_count": 24,
   "metadata": {},
   "outputs": [],
   "source": [
    "df.createOrReplaceTempView(\"DATA\")"
   ]
  },
  {
   "cell_type": "code",
   "execution_count": 25,
   "metadata": {},
   "outputs": [
    {
     "name": "stdout",
     "output_type": "stream",
     "text": [
      "+----------------------+\n",
      "|count(DISTINCT userId)|\n",
      "+----------------------+\n",
      "|225                   |\n",
      "+----------------------+\n",
      "\n"
     ]
    }
   ],
   "source": [
    "spark.sql(\"\"\"\n",
    "SELECT count(distinct userId) FROM DATA \n",
    "\"\"\").show(10, False)"
   ]
  },
  {
   "cell_type": "code",
   "execution_count": 26,
   "metadata": {},
   "outputs": [
    {
     "name": "stdout",
     "output_type": "stream",
     "text": [
      "+------+-------------------------+\n",
      "|userId|page                     |\n",
      "+------+-------------------------+\n",
      "|10    |Downgrade                |\n",
      "|100   |Downgrade                |\n",
      "|100001|Cancellation Confirmation|\n",
      "|100002|Downgrade                |\n",
      "|100003|Cancellation Confirmation|\n",
      "|100004|Downgrade                |\n",
      "|100005|Cancellation Confirmation|\n",
      "|100006|Cancellation Confirmation|\n",
      "|100007|Cancellation Confirmation|\n",
      "|100007|Downgrade                |\n",
      "+------+-------------------------+\n",
      "only showing top 10 rows\n",
      "\n"
     ]
    }
   ],
   "source": [
    "spark.sql(\"\"\"\n",
    "SELECT distinct userId,page \n",
    "FROM DATA \n",
    "where page in ('Cancellation Confirmation','Downgrade') \n",
    "order by userId,page\n",
    "\"\"\").show(10, False)"
   ]
  },
  {
   "cell_type": "code",
   "execution_count": 27,
   "metadata": {},
   "outputs": [
    {
     "name": "stdout",
     "output_type": "stream",
     "text": [
      "+-------------------------+-------------------+-----+\n",
      "|page                     |ts                 |level|\n",
      "+-------------------------+-------------------+-----+\n",
      "|Home                     |2018-10-01 06:48:24|free |\n",
      "|NextSong                 |2018-10-01 06:48:29|free |\n",
      "|Roll Advert              |2018-10-01 06:49:02|free |\n",
      "|NextSong                 |2018-10-01 06:52:27|free |\n",
      "|Roll Advert              |2018-10-01 06:53:03|free |\n",
      "|NextSong                 |2018-10-01 07:02:29|free |\n",
      "|NextSong                 |2018-10-01 07:09:08|free |\n",
      "|NextSong                 |2018-10-01 07:12:12|free |\n",
      "|NextSong                 |2018-10-01 07:17:25|free |\n",
      "|NextSong                 |2018-10-01 07:21:23|free |\n",
      "|NextSong                 |2018-10-01 07:24:47|free |\n",
      "|NextSong                 |2018-10-01 07:27:57|free |\n",
      "|NextSong                 |2018-10-01 07:30:41|free |\n",
      "|NextSong                 |2018-10-01 07:33:27|free |\n",
      "|Roll Advert              |2018-10-01 07:33:50|free |\n",
      "|NextSong                 |2018-10-01 07:37:00|free |\n",
      "|NextSong                 |2018-10-01 07:41:08|free |\n",
      "|NextSong                 |2018-10-01 07:46:40|free |\n",
      "|NextSong                 |2018-10-01 07:49:39|free |\n",
      "|Logout                   |2018-10-01 07:49:40|free |\n",
      "|Home                     |2018-10-01 07:53:49|free |\n",
      "|NextSong                 |2018-10-01 07:54:41|free |\n",
      "|NextSong                 |2018-10-01 08:00:29|free |\n",
      "|NextSong                 |2018-10-01 08:07:53|free |\n",
      "|Thumbs Down              |2018-10-01 08:07:54|free |\n",
      "|NextSong                 |2018-10-01 08:10:49|free |\n",
      "|NextSong                 |2018-10-01 08:15:08|free |\n",
      "|NextSong                 |2018-10-01 08:19:38|free |\n",
      "|NextSong                 |2018-10-01 08:23:37|free |\n",
      "|NextSong                 |2018-10-01 08:27:56|free |\n",
      "|Roll Advert              |2018-10-01 08:29:10|free |\n",
      "|NextSong                 |2018-10-01 08:31:14|free |\n",
      "|Roll Advert              |2018-10-01 08:32:55|free |\n",
      "|NextSong                 |2018-10-01 08:36:04|free |\n",
      "|NextSong                 |2018-10-01 08:40:34|free |\n",
      "|NextSong                 |2018-10-01 08:45:32|free |\n",
      "|NextSong                 |2018-10-01 08:49:17|free |\n",
      "|Logout                   |2018-10-01 08:49:18|free |\n",
      "|Home                     |2018-10-01 08:50:46|free |\n",
      "|NextSong                 |2018-10-01 08:53:23|free |\n",
      "|Add Friend               |2018-10-01 08:53:24|free |\n",
      "|NextSong                 |2018-10-01 08:57:20|free |\n",
      "|NextSong                 |2018-10-01 09:08:15|free |\n",
      "|NextSong                 |2018-10-01 09:11:45|free |\n",
      "|NextSong                 |2018-10-01 09:15:53|free |\n",
      "|Thumbs Up                |2018-10-01 09:15:54|free |\n",
      "|NextSong                 |2018-10-01 09:21:22|free |\n",
      "|NextSong                 |2018-10-01 09:25:17|free |\n",
      "|Add to Playlist          |2018-10-01 09:27:46|free |\n",
      "|NextSong                 |2018-10-01 09:28:02|free |\n",
      "|Logout                   |2018-10-01 09:28:03|free |\n",
      "|Home                     |2018-10-02 03:41:36|free |\n",
      "|NextSong                 |2018-10-02 03:41:40|free |\n",
      "|NextSong                 |2018-10-02 03:50:19|free |\n",
      "|Thumbs Up                |2018-10-02 03:50:20|free |\n",
      "|NextSong                 |2018-10-02 03:53:14|free |\n",
      "|NextSong                 |2018-10-02 03:56:57|free |\n",
      "|NextSong                 |2018-10-02 04:01:21|free |\n",
      "|NextSong                 |2018-10-02 04:05:20|free |\n",
      "|NextSong                 |2018-10-02 04:10:04|free |\n",
      "|Roll Advert              |2018-10-02 04:10:36|free |\n",
      "|NextSong                 |2018-10-02 04:14:15|free |\n",
      "|NextSong                 |2018-10-02 04:19:10|free |\n",
      "|NextSong                 |2018-10-02 04:22:24|free |\n",
      "|NextSong                 |2018-10-02 04:27:43|free |\n",
      "|NextSong                 |2018-10-02 04:31:22|free |\n",
      "|NextSong                 |2018-10-02 04:37:11|free |\n",
      "|NextSong                 |2018-10-02 04:43:07|free |\n",
      "|NextSong                 |2018-10-02 04:48:55|free |\n",
      "|Settings                 |2018-10-02 04:51:11|free |\n",
      "|NextSong                 |2018-10-02 04:51:25|free |\n",
      "|NextSong                 |2018-10-02 04:54:59|free |\n",
      "|NextSong                 |2018-10-02 04:59:21|free |\n",
      "|NextSong                 |2018-10-02 05:03:13|free |\n",
      "|Home                     |2018-10-02 05:03:44|free |\n",
      "|NextSong                 |2018-10-02 05:07:06|free |\n",
      "|NextSong                 |2018-10-02 05:09:17|free |\n",
      "|Roll Advert              |2018-10-02 05:11:01|free |\n",
      "|NextSong                 |2018-10-02 05:13:11|free |\n",
      "|NextSong                 |2018-10-02 05:18:46|free |\n",
      "|NextSong                 |2018-10-02 05:21:41|free |\n",
      "|NextSong                 |2018-10-02 05:27:55|free |\n",
      "|NextSong                 |2018-10-02 05:31:50|free |\n",
      "|Home                     |2018-10-02 05:32:01|free |\n",
      "|NextSong                 |2018-10-02 05:40:51|free |\n",
      "|Thumbs Down              |2018-10-02 05:40:52|free |\n",
      "|NextSong                 |2018-10-02 05:45:23|free |\n",
      "|NextSong                 |2018-10-02 05:46:11|free |\n",
      "|NextSong                 |2018-10-02 05:48:02|free |\n",
      "|NextSong                 |2018-10-02 05:51:48|free |\n",
      "|Upgrade                  |2018-10-02 05:53:33|free |\n",
      "|NextSong                 |2018-10-02 05:53:59|free |\n",
      "|NextSong                 |2018-10-02 05:57:05|free |\n",
      "|NextSong                 |2018-10-02 06:02:18|free |\n",
      "|Roll Advert              |2018-10-02 06:02:53|free |\n",
      "|NextSong                 |2018-10-02 06:06:45|free |\n",
      "|NextSong                 |2018-10-02 06:11:23|free |\n",
      "|NextSong                 |2018-10-02 06:14:17|free |\n",
      "|NextSong                 |2018-10-02 06:16:57|free |\n",
      "|Thumbs Up                |2018-10-02 06:16:58|free |\n",
      "|NextSong                 |2018-10-02 06:20:56|free |\n",
      "|NextSong                 |2018-10-02 06:24:11|free |\n",
      "|NextSong                 |2018-10-02 06:29:19|free |\n",
      "|NextSong                 |2018-10-02 06:33:12|free |\n",
      "|NextSong                 |2018-10-02 06:38:50|free |\n",
      "|Thumbs Up                |2018-10-02 06:38:51|free |\n",
      "|NextSong                 |2018-10-02 06:43:11|free |\n",
      "|NextSong                 |2018-10-02 06:46:26|free |\n",
      "|NextSong                 |2018-10-02 06:51:21|free |\n",
      "|Upgrade                  |2018-10-02 06:51:38|free |\n",
      "|NextSong                 |2018-10-02 06:57:27|free |\n",
      "|Roll Advert              |2018-10-02 06:58:09|free |\n",
      "|Roll Advert              |2018-10-02 06:58:54|free |\n",
      "|NextSong                 |2018-10-02 07:00:06|free |\n",
      "|NextSong                 |2018-10-02 07:03:55|free |\n",
      "|NextSong                 |2018-10-02 07:08:18|free |\n",
      "|NextSong                 |2018-10-02 07:10:35|free |\n",
      "|NextSong                 |2018-10-02 07:12:22|free |\n",
      "|NextSong                 |2018-10-02 07:14:55|free |\n",
      "|Add to Playlist          |2018-10-02 07:16:53|free |\n",
      "|NextSong                 |2018-10-02 12:19:15|free |\n",
      "|Logout                   |2018-10-02 12:19:16|free |\n",
      "|Home                     |2018-10-02 12:24:29|free |\n",
      "|NextSong                 |2018-10-02 12:25:41|free |\n",
      "|Roll Advert              |2018-10-02 12:26:04|free |\n",
      "|NextSong                 |2018-10-02 12:30:24|free |\n",
      "|Roll Advert              |2018-10-02 12:35:27|free |\n",
      "|NextSong                 |2018-10-02 12:35:38|free |\n",
      "|NextSong                 |2018-10-02 12:39:01|free |\n",
      "|Logout                   |2018-10-02 12:39:02|free |\n",
      "|Home                     |2018-10-02 12:51:02|free |\n",
      "|NextSong                 |2018-10-02 12:56:37|free |\n",
      "|NextSong                 |2018-10-02 12:58:25|free |\n",
      "|Thumbs Up                |2018-10-02 12:58:26|free |\n",
      "|NextSong                 |2018-10-02 13:02:20|free |\n",
      "|NextSong                 |2018-10-02 13:07:03|free |\n",
      "|Add Friend               |2018-10-02 13:07:04|free |\n",
      "|NextSong                 |2018-10-02 13:12:00|free |\n",
      "|Home                     |2018-10-02 13:20:29|free |\n",
      "|NextSong                 |2018-10-02 13:21:26|free |\n",
      "|NextSong                 |2018-10-02 13:24:52|free |\n",
      "|Thumbs Up                |2018-10-02 13:24:53|free |\n",
      "|NextSong                 |2018-10-02 13:28:55|free |\n",
      "|Thumbs Up                |2018-10-02 13:28:56|free |\n",
      "|NextSong                 |2018-10-02 13:34:56|free |\n",
      "|NextSong                 |2018-10-02 13:39:11|free |\n",
      "|NextSong                 |2018-10-02 13:44:06|free |\n",
      "|Add to Playlist          |2018-10-02 13:44:07|free |\n",
      "|Thumbs Up                |2018-10-02 13:44:08|free |\n",
      "|NextSong                 |2018-10-02 13:48:26|free |\n",
      "|NextSong                 |2018-10-02 13:52:38|free |\n",
      "|NextSong                 |2018-10-02 13:56:20|free |\n",
      "|NextSong                 |2018-10-02 14:01:00|free |\n",
      "|NextSong                 |2018-10-02 14:03:16|free |\n",
      "|NextSong                 |2018-10-02 14:10:01|free |\n",
      "|NextSong                 |2018-10-02 14:14:41|free |\n",
      "|NextSong                 |2018-10-02 14:18:01|free |\n",
      "|Error                    |2018-10-02 14:18:21|free |\n",
      "|NextSong                 |2018-10-02 14:24:38|free |\n",
      "|NextSong                 |2018-10-02 14:29:01|free |\n",
      "|NextSong                 |2018-10-02 14:34:19|free |\n",
      "|NextSong                 |2018-10-02 14:37:17|free |\n",
      "|NextSong                 |2018-10-02 14:41:33|free |\n",
      "|NextSong                 |2018-10-02 14:46:01|free |\n",
      "|NextSong                 |2018-10-02 14:50:00|free |\n",
      "|NextSong                 |2018-10-02 14:53:56|free |\n",
      "|Logout                   |2018-10-02 14:53:57|free |\n",
      "|Home                     |2018-10-02 15:33:45|free |\n",
      "|NextSong                 |2018-10-02 15:39:43|free |\n",
      "|NextSong                 |2018-10-02 15:42:36|free |\n",
      "|NextSong                 |2018-10-02 15:50:27|free |\n",
      "|NextSong                 |2018-10-02 16:00:21|free |\n",
      "|NextSong                 |2018-10-02 16:03:18|free |\n",
      "|NextSong                 |2018-10-02 16:07:00|free |\n",
      "|NextSong                 |2018-10-02 16:12:33|free |\n",
      "|Roll Advert              |2018-10-02 16:13:59|free |\n",
      "|NextSong                 |2018-10-02 16:16:24|free |\n",
      "|Help                     |2018-10-02 16:16:50|free |\n",
      "|NextSong                 |2018-10-02 16:19:54|free |\n",
      "|NextSong                 |2018-10-02 16:24:34|free |\n",
      "|NextSong                 |2018-10-02 16:29:18|free |\n",
      "|Logout                   |2018-10-02 16:29:19|free |\n",
      "|Home                     |2018-10-02 16:29:46|free |\n",
      "|NextSong                 |2018-10-02 16:33:52|free |\n",
      "|Roll Advert              |2018-10-02 16:34:33|free |\n",
      "|Cancel                   |2018-10-02 16:34:34|free |\n",
      "|Cancellation Confirmation|2018-10-02 16:36:45|free |\n",
      "+-------------------------+-------------------+-----+\n",
      "\n"
     ]
    }
   ],
   "source": [
    "spark.sql(\"\"\"\n",
    "SELECT page,to_timestamp(ts/1000) as ts,level\n",
    "FROM DATA \n",
    "where userId='100001'\n",
    "order by ts\n",
    "\"\"\").show(500, False)"
   ]
  },
  {
   "cell_type": "code",
   "execution_count": 28,
   "metadata": {},
   "outputs": [
    {
     "name": "stdout",
     "output_type": "stream",
     "text": [
      "+---------------+-------------------+-----+\n",
      "|page           |ts                 |level|\n",
      "+---------------+-------------------+-----+\n",
      "|Home           |2018-10-08 22:57:25|paid |\n",
      "|NextSong       |2018-10-08 22:57:34|paid |\n",
      "|NextSong       |2018-10-08 23:00:57|paid |\n",
      "|NextSong       |2018-10-08 23:04:58|paid |\n",
      "|Add to Playlist|2018-10-08 23:05:07|paid |\n",
      "|NextSong       |2018-11-06 15:29:54|paid |\n",
      "|NextSong       |2018-11-06 15:34:18|paid |\n",
      "|NextSong       |2018-11-06 15:37:56|paid |\n",
      "|NextSong       |2018-11-06 15:42:00|paid |\n",
      "|Downgrade      |2018-11-06 15:42:01|paid |\n",
      "|Downgrade      |2018-11-06 15:42:01|paid |\n",
      "|NextSong       |2018-11-06 15:46:13|paid |\n",
      "|NextSong       |2018-11-06 15:57:08|paid |\n",
      "|NextSong       |2018-11-06 16:03:09|paid |\n",
      "|NextSong       |2018-11-06 16:06:30|paid |\n",
      "|NextSong       |2018-11-06 16:11:19|paid |\n",
      "|NextSong       |2018-11-06 16:14:03|paid |\n",
      "|NextSong       |2018-11-06 16:16:42|paid |\n",
      "|NextSong       |2018-11-06 16:21:40|paid |\n",
      "|NextSong       |2018-11-06 16:25:36|paid |\n",
      "|NextSong       |2018-11-06 16:29:47|paid |\n",
      "|NextSong       |2018-11-06 16:31:49|paid |\n",
      "|Thumbs Up      |2018-11-06 16:31:50|paid |\n",
      "|NextSong       |2018-11-06 16:36:13|paid |\n",
      "|Roll Advert    |2018-11-06 16:36:16|paid |\n",
      "|Logout         |2018-11-06 16:36:17|paid |\n",
      "|Home           |2018-11-06 16:36:28|paid |\n",
      "|Home           |2018-11-14 15:35:19|paid |\n",
      "|NextSong       |2018-11-14 15:35:21|paid |\n",
      "|NextSong       |2018-11-14 15:40:03|paid |\n",
      "|NextSong       |2018-11-14 15:43:03|paid |\n",
      "|NextSong       |2018-11-14 15:46:54|paid |\n",
      "|NextSong       |2018-11-14 15:50:35|paid |\n",
      "|NextSong       |2018-11-14 15:54:19|paid |\n",
      "|NextSong       |2018-11-14 16:02:26|paid |\n",
      "|NextSong       |2018-11-14 16:06:27|paid |\n",
      "|NextSong       |2018-11-14 16:11:13|paid |\n",
      "|NextSong       |2018-11-14 16:14:51|paid |\n",
      "|NextSong       |2018-11-14 16:18:06|paid |\n",
      "|Thumbs Up      |2018-11-14 16:18:07|paid |\n",
      "|NextSong       |2018-11-14 16:23:05|paid |\n",
      "|NextSong       |2018-11-14 16:27:50|paid |\n",
      "|NextSong       |2018-11-14 16:30:01|paid |\n",
      "|NextSong       |2018-11-14 16:34:39|paid |\n",
      "|NextSong       |2018-11-14 16:39:26|paid |\n",
      "|NextSong       |2018-11-14 16:44:28|paid |\n",
      "|NextSong       |2018-11-14 16:47:45|paid |\n",
      "|Roll Advert    |2018-11-14 16:48:12|paid |\n",
      "|NextSong       |2018-11-14 16:52:18|paid |\n",
      "|NextSong       |2018-11-14 16:55:43|paid |\n",
      "|NextSong       |2018-11-14 17:03:17|paid |\n",
      "|NextSong       |2018-11-14 17:06:38|paid |\n",
      "|NextSong       |2018-11-14 17:09:46|paid |\n",
      "|NextSong       |2018-11-14 17:12:48|paid |\n",
      "|NextSong       |2018-11-14 17:16:22|paid |\n",
      "|Thumbs Up      |2018-11-14 17:16:23|paid |\n",
      "|Add to Playlist|2018-11-14 17:16:47|paid |\n",
      "|NextSong       |2018-11-14 17:20:34|paid |\n",
      "|NextSong       |2018-11-14 17:23:00|paid |\n",
      "|NextSong       |2018-11-14 17:28:37|paid |\n",
      "|NextSong       |2018-11-14 17:31:52|paid |\n",
      "|NextSong       |2018-11-14 17:36:46|paid |\n",
      "|NextSong       |2018-11-14 17:40:49|paid |\n",
      "|NextSong       |2018-11-14 17:44:24|paid |\n",
      "|NextSong       |2018-11-14 17:50:10|paid |\n",
      "|NextSong       |2018-11-14 17:55:19|paid |\n",
      "|NextSong       |2018-11-14 17:58:02|paid |\n",
      "|Thumbs Up      |2018-11-14 17:58:03|paid |\n",
      "|NextSong       |2018-11-14 18:01:41|paid |\n",
      "|NextSong       |2018-11-14 18:05:48|paid |\n",
      "|NextSong       |2018-11-14 18:08:37|paid |\n",
      "|Home           |2018-11-14 18:08:49|paid |\n",
      "|NextSong       |2018-11-14 18:18:26|paid |\n",
      "|NextSong       |2018-11-14 18:21:27|paid |\n",
      "|NextSong       |2018-11-14 18:24:53|paid |\n",
      "|NextSong       |2018-11-14 18:28:31|paid |\n",
      "|NextSong       |2018-11-14 18:32:40|paid |\n",
      "|NextSong       |2018-11-14 18:36:31|paid |\n",
      "|NextSong       |2018-11-14 18:41:03|paid |\n",
      "|NextSong       |2018-11-14 18:49:26|paid |\n",
      "|NextSong       |2018-11-14 18:55:46|paid |\n",
      "|NextSong       |2018-11-14 19:00:11|paid |\n",
      "|NextSong       |2018-11-14 19:04:12|paid |\n",
      "|NextSong       |2018-11-14 19:08:43|paid |\n",
      "|NextSong       |2018-11-14 19:12:49|paid |\n",
      "|NextSong       |2018-11-14 19:16:15|paid |\n",
      "|NextSong       |2018-11-14 19:17:23|paid |\n",
      "|NextSong       |2018-11-14 19:20:26|paid |\n",
      "|NextSong       |2018-11-14 19:23:48|paid |\n",
      "|NextSong       |2018-11-14 19:29:19|paid |\n",
      "|NextSong       |2018-11-14 19:33:31|paid |\n",
      "|NextSong       |2018-11-14 19:36:00|paid |\n",
      "|NextSong       |2018-11-14 19:41:25|paid |\n",
      "|NextSong       |2018-11-14 19:44:24|paid |\n",
      "|NextSong       |2018-11-14 19:49:26|paid |\n",
      "|NextSong       |2018-11-14 19:54:44|paid |\n",
      "|NextSong       |2018-11-14 19:58:39|paid |\n",
      "|NextSong       |2018-11-14 20:04:36|paid |\n",
      "|NextSong       |2018-11-14 20:08:55|paid |\n",
      "|NextSong       |2018-11-14 20:12:21|paid |\n",
      "|NextSong       |2018-11-14 20:17:38|paid |\n",
      "|Home           |2018-11-14 20:17:38|paid |\n",
      "|NextSong       |2018-11-14 20:20:35|paid |\n",
      "|NextSong       |2018-11-14 20:24:25|paid |\n",
      "|NextSong       |2018-11-14 20:28:52|paid |\n",
      "|NextSong       |2018-11-14 20:33:06|paid |\n",
      "|NextSong       |2018-11-14 20:38:22|paid |\n",
      "|NextSong       |2018-11-14 20:41:22|paid |\n",
      "|NextSong       |2018-11-14 20:44:35|paid |\n",
      "|NextSong       |2018-11-14 20:48:19|paid |\n",
      "|NextSong       |2018-11-14 20:52:03|paid |\n",
      "|NextSong       |2018-11-14 20:55:28|paid |\n",
      "|NextSong       |2018-11-14 20:58:56|paid |\n",
      "|NextSong       |2018-11-14 21:02:01|paid |\n",
      "|NextSong       |2018-11-14 21:05:46|paid |\n",
      "|NextSong       |2018-11-14 21:10:50|paid |\n",
      "|NextSong       |2018-11-14 21:14:36|paid |\n",
      "|NextSong       |2018-11-14 21:18:10|paid |\n",
      "|NextSong       |2018-11-14 21:24:55|paid |\n",
      "|NextSong       |2018-11-14 21:30:19|paid |\n",
      "|NextSong       |2018-11-14 21:34:08|paid |\n",
      "|NextSong       |2018-11-14 21:37:45|paid |\n",
      "|NextSong       |2018-11-14 21:44:26|paid |\n",
      "|NextSong       |2018-11-14 21:48:06|paid |\n",
      "|NextSong       |2018-11-14 21:51:36|paid |\n",
      "|NextSong       |2018-11-14 21:59:29|paid |\n",
      "|NextSong       |2018-11-14 22:01:56|paid |\n",
      "|NextSong       |2018-11-14 22:05:02|paid |\n",
      "|NextSong       |2018-11-14 22:08:47|paid |\n",
      "|NextSong       |2018-11-14 22:13:31|paid |\n",
      "|NextSong       |2018-11-14 22:16:48|paid |\n",
      "|NextSong       |2018-11-14 22:20:24|paid |\n",
      "|NextSong       |2018-11-14 22:24:49|paid |\n",
      "|NextSong       |2018-11-14 22:28:48|paid |\n",
      "|NextSong       |2018-11-14 22:33:16|paid |\n",
      "|NextSong       |2018-11-14 22:36:49|paid |\n",
      "|Home           |2018-11-14 22:36:57|paid |\n",
      "|NextSong       |2018-11-14 22:40:32|paid |\n",
      "|NextSong       |2018-11-14 22:44:09|paid |\n",
      "|NextSong       |2018-11-14 22:48:12|paid |\n",
      "|NextSong       |2018-11-14 22:52:03|paid |\n",
      "|NextSong       |2018-11-14 22:59:46|paid |\n",
      "|NextSong       |2018-11-14 23:04:07|paid |\n",
      "|NextSong       |2018-11-14 23:08:14|paid |\n",
      "|NextSong       |2018-11-14 23:12:25|paid |\n",
      "|NextSong       |2018-11-14 23:16:24|paid |\n",
      "|NextSong       |2018-11-14 23:20:26|paid |\n",
      "|NextSong       |2018-11-14 23:24:38|paid |\n",
      "|NextSong       |2018-11-14 23:29:10|paid |\n",
      "|NextSong       |2018-11-14 23:32:02|paid |\n",
      "|NextSong       |2018-11-14 23:34:17|paid |\n",
      "|NextSong       |2018-11-14 23:38:06|paid |\n",
      "|NextSong       |2018-11-14 23:41:13|paid |\n",
      "|Thumbs Up      |2018-11-14 23:41:14|paid |\n",
      "|Add to Playlist|2018-11-14 23:41:20|paid |\n",
      "|NextSong       |2018-11-14 23:45:08|paid |\n",
      "|NextSong       |2018-11-14 23:47:56|paid |\n",
      "|NextSong       |2018-11-14 23:51:50|paid |\n",
      "|NextSong       |2018-11-14 23:56:18|paid |\n",
      "|NextSong       |2018-11-14 23:59:36|paid |\n",
      "|NextSong       |2018-11-15 00:02:25|paid |\n",
      "|NextSong       |2018-11-15 00:05:48|paid |\n",
      "|NextSong       |2018-11-15 00:09:28|paid |\n",
      "|NextSong       |2018-11-15 00:15:58|paid |\n",
      "|NextSong       |2018-11-15 00:19:38|paid |\n",
      "|NextSong       |2018-11-15 00:22:55|paid |\n",
      "|NextSong       |2018-11-15 00:30:02|paid |\n",
      "|Roll Advert    |2018-11-15 00:30:19|paid |\n",
      "|NextSong       |2018-11-15 00:34:52|paid |\n",
      "|NextSong       |2018-11-15 00:38:54|paid |\n",
      "|NextSong       |2018-11-15 00:43:01|paid |\n",
      "|Add to Playlist|2018-11-15 00:43:07|paid |\n",
      "|NextSong       |2018-11-15 00:46:38|paid |\n",
      "|NextSong       |2018-11-15 00:49:12|paid |\n",
      "|NextSong       |2018-11-15 00:54:09|paid |\n",
      "|NextSong       |2018-11-15 00:57:21|paid |\n",
      "|NextSong       |2018-11-15 01:00:00|paid |\n",
      "|NextSong       |2018-11-15 01:04:21|paid |\n",
      "|NextSong       |2018-11-15 01:08:33|paid |\n",
      "|Add to Playlist|2018-11-15 01:08:41|paid |\n",
      "|NextSong       |2018-11-15 01:12:03|paid |\n",
      "|NextSong       |2018-11-15 01:15:52|paid |\n",
      "|NextSong       |2018-11-15 01:18:43|paid |\n",
      "|NextSong       |2018-11-15 01:22:19|paid |\n",
      "|NextSong       |2018-11-15 01:25:26|paid |\n",
      "|NextSong       |2018-11-15 01:30:19|paid |\n",
      "|Add Friend     |2018-11-15 01:30:20|paid |\n",
      "|NextSong       |2018-11-15 01:33:47|paid |\n",
      "|NextSong       |2018-11-15 01:38:21|paid |\n",
      "|NextSong       |2018-11-15 01:43:56|paid |\n",
      "|NextSong       |2018-11-15 01:56:08|paid |\n",
      "|NextSong       |2018-11-15 02:00:42|paid |\n",
      "|NextSong       |2018-11-15 02:03:19|paid |\n",
      "|NextSong       |2018-11-15 02:10:16|paid |\n",
      "|NextSong       |2018-11-15 02:13:40|paid |\n",
      "|NextSong       |2018-11-15 02:18:41|paid |\n",
      "|NextSong       |2018-11-15 02:29:36|paid |\n",
      "|NextSong       |2018-11-15 02:33:25|paid |\n",
      "|NextSong       |2018-11-15 02:37:00|paid |\n",
      "|NextSong       |2018-11-15 02:40:22|paid |\n",
      "|NextSong       |2018-11-15 02:44:03|paid |\n",
      "|NextSong       |2018-11-15 02:47:23|paid |\n",
      "|NextSong       |2018-11-15 02:51:30|paid |\n",
      "|NextSong       |2018-11-15 02:55:45|paid |\n",
      "|NextSong       |2018-11-15 02:59:33|paid |\n",
      "|NextSong       |2018-11-15 03:02:44|paid |\n",
      "|NextSong       |2018-11-15 03:07:21|paid |\n",
      "|NextSong       |2018-11-15 03:11:08|paid |\n",
      "|NextSong       |2018-11-15 03:15:05|paid |\n",
      "|NextSong       |2018-11-15 03:20:13|paid |\n",
      "|NextSong       |2018-11-15 03:23:49|paid |\n",
      "|NextSong       |2018-11-15 03:27:31|paid |\n",
      "|NextSong       |2018-11-15 03:30:36|paid |\n",
      "|NextSong       |2018-11-15 03:34:02|paid |\n",
      "|NextSong       |2018-11-15 03:38:54|paid |\n",
      "|NextSong       |2018-11-15 03:42:19|paid |\n",
      "|NextSong       |2018-11-15 03:45:47|paid |\n",
      "|NextSong       |2018-12-03 01:11:16|paid |\n",
      "+---------------+-------------------+-----+\n",
      "\n"
     ]
    }
   ],
   "source": [
    "spark.sql(\"\"\"\n",
    "SELECT page,to_timestamp(ts/1000) as ts,level\n",
    "FROM DATA \n",
    "where userId='100002'\n",
    "order by ts\n",
    "\"\"\").show(500, False)"
   ]
  },
  {
   "cell_type": "markdown",
   "metadata": {},
   "source": [
    "We can see that even that the user went to Downgrade page he remained paid. I assume that he should do a Submit Downgrade page to consider his downgrade valid"
   ]
  },
  {
   "cell_type": "code",
   "execution_count": 29,
   "metadata": {
    "scrolled": true
   },
   "outputs": [
    {
     "name": "stdout",
     "output_type": "stream",
     "text": [
      "+------+-------------------------+\n",
      "|userId|page                     |\n",
      "+------+-------------------------+\n",
      "|100   |Submit Downgrade         |\n",
      "|100001|Cancellation Confirmation|\n",
      "|100003|Cancellation Confirmation|\n",
      "|100004|Submit Downgrade         |\n",
      "|100005|Cancellation Confirmation|\n",
      "|100006|Cancellation Confirmation|\n",
      "|100007|Cancellation Confirmation|\n",
      "|100008|Submit Downgrade         |\n",
      "|100009|Cancellation Confirmation|\n",
      "|100009|Submit Downgrade         |\n",
      "+------+-------------------------+\n",
      "only showing top 10 rows\n",
      "\n"
     ]
    }
   ],
   "source": [
    "spark.sql(\"\"\"\n",
    "SELECT distinct userId,page \n",
    "FROM DATA \n",
    "where page in ('Cancellation Confirmation','Submit Downgrade') \n",
    "order by userId,page\n",
    "\"\"\").show(10, False)"
   ]
  },
  {
   "cell_type": "code",
   "execution_count": 30,
   "metadata": {},
   "outputs": [
    {
     "name": "stdout",
     "output_type": "stream",
     "text": [
      "+----------------+-------------------+-----+\n",
      "|page            |ts                 |level|\n",
      "+----------------+-------------------+-----+\n",
      "|NextSong        |2018-10-01 06:12:51|free |\n",
      "|NextSong        |2018-10-01 06:16:03|free |\n",
      "|Thumbs Up       |2018-10-01 06:16:04|free |\n",
      "|NextSong        |2018-10-01 06:20:02|free |\n",
      "|NextSong        |2018-10-01 06:23:33|free |\n",
      "|NextSong        |2018-10-01 06:27:30|free |\n",
      "|NextSong        |2018-10-01 06:33:44|free |\n",
      "|NextSong        |2018-10-01 06:38:16|free |\n",
      "|NextSong        |2018-10-01 06:44:12|free |\n",
      "|NextSong        |2018-10-01 06:47:28|free |\n",
      "|Roll Advert     |2018-10-01 06:47:54|free |\n",
      "|Roll Advert     |2018-10-01 06:47:54|free |\n",
      "|NextSong        |2018-10-01 06:51:45|free |\n",
      "|Roll Advert     |2018-10-01 06:52:39|free |\n",
      "|NextSong        |2018-10-01 06:55:30|free |\n",
      "|NextSong        |2018-10-01 06:59:52|free |\n",
      "|NextSong        |2018-10-01 07:03:22|free |\n",
      "|NextSong        |2018-10-01 07:06:36|free |\n",
      "|NextSong        |2018-10-01 07:10:19|free |\n",
      "|NextSong        |2018-10-01 07:13:43|free |\n",
      "|NextSong        |2018-10-01 07:18:46|free |\n",
      "|Upgrade         |2018-10-01 07:19:20|free |\n",
      "|NextSong        |2018-10-01 07:24:37|free |\n",
      "|NextSong        |2018-10-01 07:28:07|free |\n",
      "|Settings        |2018-10-01 07:28:23|free |\n",
      "|NextSong        |2018-10-01 07:36:24|free |\n",
      "|NextSong        |2018-10-01 07:39:59|free |\n",
      "|Logout          |2018-10-01 07:40:00|free |\n",
      "|Home            |2018-10-05 03:19:07|free |\n",
      "|NextSong        |2018-10-05 03:19:28|free |\n",
      "|NextSong        |2018-10-05 03:23:22|free |\n",
      "|Roll Advert     |2018-10-05 03:23:38|free |\n",
      "|NextSong        |2018-10-09 01:44:03|free |\n",
      "|NextSong        |2018-10-09 01:47:14|free |\n",
      "|NextSong        |2018-10-09 01:50:35|free |\n",
      "|NextSong        |2018-10-09 01:58:18|free |\n",
      "|Roll Advert     |2018-10-09 02:01:06|free |\n",
      "|Roll Advert     |2018-10-09 02:01:34|free |\n",
      "|NextSong        |2018-10-09 02:01:42|free |\n",
      "|Thumbs Down     |2018-10-09 02:01:43|free |\n",
      "|NextSong        |2018-10-09 02:03:59|free |\n",
      "|NextSong        |2018-10-09 02:07:17|free |\n",
      "|NextSong        |2018-10-09 02:10:18|free |\n",
      "|Logout          |2018-10-09 02:10:19|free |\n",
      "|Home            |2018-10-09 02:10:30|free |\n",
      "|NextSong        |2018-10-09 02:13:36|free |\n",
      "|Thumbs Up       |2018-10-09 02:13:37|free |\n",
      "|NextSong        |2018-10-09 02:16:53|free |\n",
      "|NextSong        |2018-10-09 02:20:18|free |\n",
      "|Add to Playlist |2018-10-09 02:20:50|free |\n",
      "|NextSong        |2018-10-09 02:23:47|free |\n",
      "|NextSong        |2018-10-09 02:27:37|free |\n",
      "|Logout          |2018-10-09 02:27:38|free |\n",
      "|Home            |2018-10-09 02:31:25|free |\n",
      "|NextSong        |2018-10-09 02:31:35|free |\n",
      "|NextSong        |2018-10-09 02:38:22|free |\n",
      "|Logout          |2018-10-09 02:38:23|free |\n",
      "|Home            |2018-10-09 02:40:00|free |\n",
      "|NextSong        |2018-10-09 02:41:56|free |\n",
      "|NextSong        |2018-10-09 02:45:51|free |\n",
      "|Logout          |2018-10-09 02:45:52|free |\n",
      "|Home            |2018-10-09 02:48:25|free |\n",
      "|NextSong        |2018-10-09 02:49:52|free |\n",
      "|NextSong        |2018-10-09 02:54:08|free |\n",
      "|NextSong        |2018-10-09 02:57:30|free |\n",
      "|NextSong        |2018-10-09 03:00:21|free |\n",
      "|NextSong        |2018-10-09 03:05:12|free |\n",
      "|NextSong        |2018-10-09 03:09:15|free |\n",
      "|Roll Advert     |2018-10-09 03:09:16|free |\n",
      "|NextSong        |2018-10-09 03:15:47|free |\n",
      "|NextSong        |2018-10-09 03:19:27|free |\n",
      "|NextSong        |2018-10-09 03:22:02|free |\n",
      "|Roll Advert     |2018-10-09 03:22:09|free |\n",
      "|Roll Advert     |2018-10-09 03:22:59|free |\n",
      "|NextSong        |2018-10-09 03:24:33|free |\n",
      "|NextSong        |2018-10-09 03:31:01|free |\n",
      "|NextSong        |2018-10-09 03:35:06|free |\n",
      "|NextSong        |2018-10-09 03:40:22|free |\n",
      "|NextSong        |2018-10-09 03:43:21|free |\n",
      "|NextSong        |2018-10-09 03:45:32|free |\n",
      "|Roll Advert     |2018-10-09 03:46:00|free |\n",
      "|NextSong        |2018-10-09 03:49:21|free |\n",
      "|NextSong        |2018-10-09 03:52:01|free |\n",
      "|Thumbs Down     |2018-10-09 03:52:02|free |\n",
      "|NextSong        |2018-10-09 03:56:13|free |\n",
      "|Logout          |2018-10-09 03:56:14|free |\n",
      "|Home            |2018-10-09 07:12:00|free |\n",
      "|NextSong        |2018-10-09 07:12:24|free |\n",
      "|NextSong        |2018-10-09 07:16:25|free |\n",
      "|NextSong        |2018-10-09 07:20:58|free |\n",
      "|NextSong        |2018-10-09 07:24:55|free |\n",
      "|NextSong        |2018-10-09 07:29:35|free |\n",
      "|Help            |2018-10-09 07:29:47|free |\n",
      "|Home            |2018-10-09 07:29:52|free |\n",
      "|NextSong        |2018-10-09 07:33:51|free |\n",
      "|NextSong        |2018-10-09 07:37:03|free |\n",
      "|NextSong        |2018-10-09 07:39:36|free |\n",
      "|Thumbs Down     |2018-10-09 07:39:37|free |\n",
      "|NextSong        |2018-10-09 07:43:26|free |\n",
      "|NextSong        |2018-10-09 07:49:58|free |\n",
      "|NextSong        |2018-10-09 07:52:47|free |\n",
      "|NextSong        |2018-10-09 07:55:10|free |\n",
      "|NextSong        |2018-10-09 07:59:10|free |\n",
      "|NextSong        |2018-10-09 08:01:17|free |\n",
      "|NextSong        |2018-10-09 08:03:39|free |\n",
      "|Roll Advert     |2018-10-09 08:03:54|free |\n",
      "|NextSong        |2018-10-09 08:07:26|free |\n",
      "|Roll Advert     |2018-10-09 08:08:24|free |\n",
      "|NextSong        |2018-10-09 08:14:20|free |\n",
      "|NextSong        |2018-10-09 08:16:32|free |\n",
      "|NextSong        |2018-10-09 08:20:58|free |\n",
      "|NextSong        |2018-10-09 08:26:02|free |\n",
      "|NextSong        |2018-10-09 08:29:10|free |\n",
      "|NextSong        |2018-10-09 08:32:53|free |\n",
      "|NextSong        |2018-10-09 08:35:47|free |\n",
      "|NextSong        |2018-10-09 08:39:37|free |\n",
      "|NextSong        |2018-10-09 08:43:25|free |\n",
      "|NextSong        |2018-10-09 08:47:48|free |\n",
      "|Home            |2018-10-14 21:51:12|free |\n",
      "|NextSong        |2018-10-14 21:52:09|free |\n",
      "|Roll Advert     |2018-10-14 21:52:17|free |\n",
      "|NextSong        |2018-10-14 21:56:06|free |\n",
      "|Roll Advert     |2018-10-14 21:56:08|free |\n",
      "|NextSong        |2018-10-14 21:59:33|free |\n",
      "|Roll Advert     |2018-10-14 21:59:37|free |\n",
      "|NextSong        |2018-10-14 22:04:06|free |\n",
      "|NextSong        |2018-10-14 22:06:57|free |\n",
      "|Add Friend      |2018-10-14 22:06:58|free |\n",
      "|NextSong        |2018-10-14 22:10:25|free |\n",
      "|Roll Advert     |2018-10-14 22:11:00|free |\n",
      "|NextSong        |2018-10-14 22:14:17|free |\n",
      "|Add to Playlist |2018-10-14 22:14:36|free |\n",
      "|NextSong        |2018-10-14 22:19:10|free |\n",
      "|NextSong        |2018-10-14 22:21:42|free |\n",
      "|NextSong        |2018-10-14 22:25:32|free |\n",
      "|Thumbs Up       |2018-10-14 22:25:33|free |\n",
      "|NextSong        |2018-10-14 22:27:01|free |\n",
      "|NextSong        |2018-10-14 22:30:17|free |\n",
      "|NextSong        |2018-10-14 22:35:18|free |\n",
      "|NextSong        |2018-10-14 22:38:28|free |\n",
      "|Upgrade         |2018-10-14 22:39:02|free |\n",
      "|Submit Upgrade  |2018-10-14 22:39:03|free |\n",
      "|Home            |2018-10-14 22:39:23|paid |\n",
      "|NextSong        |2018-10-14 22:42:06|paid |\n",
      "|NextSong        |2018-10-14 22:46:37|paid |\n",
      "|NextSong        |2018-10-14 22:51:05|paid |\n",
      "|NextSong        |2018-10-14 22:54:52|paid |\n",
      "|NextSong        |2018-10-14 22:58:02|paid |\n",
      "|NextSong        |2018-10-14 23:01:56|paid |\n",
      "|NextSong        |2018-10-14 23:05:49|paid |\n",
      "|NextSong        |2018-10-14 23:09:06|paid |\n",
      "|NextSong        |2018-10-14 23:11:30|paid |\n",
      "|NextSong        |2018-10-14 23:16:40|paid |\n",
      "|Home            |2018-10-14 23:17:37|paid |\n",
      "|NextSong        |2018-10-14 23:20:40|paid |\n",
      "|NextSong        |2018-10-14 23:25:34|paid |\n",
      "|NextSong        |2018-10-14 23:29:06|paid |\n",
      "|NextSong        |2018-10-14 23:33:16|paid |\n",
      "|NextSong        |2018-10-14 23:40:08|paid |\n",
      "|NextSong        |2018-10-14 23:43:24|paid |\n",
      "|NextSong        |2018-10-14 23:47:00|paid |\n",
      "|NextSong        |2018-10-14 23:50:39|paid |\n",
      "|NextSong        |2018-10-14 23:53:25|paid |\n",
      "|NextSong        |2018-10-14 23:57:02|paid |\n",
      "|NextSong        |2018-10-15 00:00:47|paid |\n",
      "|NextSong        |2018-10-15 00:06:09|paid |\n",
      "|NextSong        |2018-10-15 00:10:40|paid |\n",
      "|NextSong        |2018-10-15 00:15:33|paid |\n",
      "|Settings        |2018-10-15 00:16:15|paid |\n",
      "|Save Settings   |2018-10-15 00:16:16|paid |\n",
      "|Settings        |2018-10-15 00:17:11|paid |\n",
      "|Home            |2018-10-15 00:18:06|paid |\n",
      "|Downgrade       |2018-10-15 00:18:11|paid |\n",
      "|NextSong        |2018-10-15 00:20:30|paid |\n",
      "|NextSong        |2018-10-15 00:22:56|paid |\n",
      "|NextSong        |2018-10-15 00:27:07|paid |\n",
      "|NextSong        |2018-10-15 00:31:32|paid |\n",
      "|NextSong        |2018-10-15 00:35:19|paid |\n",
      "|NextSong        |2018-10-15 00:39:28|paid |\n",
      "|NextSong        |2018-10-15 00:42:56|paid |\n",
      "|Add to Playlist |2018-10-15 00:43:15|paid |\n",
      "|NextSong        |2018-10-15 00:45:25|paid |\n",
      "|Help            |2018-10-15 00:45:36|paid |\n",
      "|NextSong        |2018-10-15 00:49:47|paid |\n",
      "|Add Friend      |2018-10-15 00:49:48|paid |\n",
      "|Add Friend      |2018-10-15 00:49:49|paid |\n",
      "|NextSong        |2018-10-15 00:53:08|paid |\n",
      "|NextSong        |2018-10-15 00:56:22|paid |\n",
      "|Downgrade       |2018-10-15 00:56:32|paid |\n",
      "|NextSong        |2018-10-15 00:59:47|paid |\n",
      "|NextSong        |2018-10-15 01:03:38|paid |\n",
      "|NextSong        |2018-10-15 01:08:01|paid |\n",
      "|NextSong        |2018-10-15 01:11:25|paid |\n",
      "|NextSong        |2018-10-15 01:20:07|paid |\n",
      "|NextSong        |2018-10-15 01:24:16|paid |\n",
      "|NextSong        |2018-10-15 01:28:20|paid |\n",
      "|NextSong        |2018-10-15 01:32:44|paid |\n",
      "|NextSong        |2018-10-15 01:35:26|paid |\n",
      "|NextSong        |2018-10-15 01:45:45|paid |\n",
      "|NextSong        |2018-10-15 01:51:47|paid |\n",
      "|Logout          |2018-10-15 01:51:48|paid |\n",
      "|Home            |2018-10-15 01:53:59|paid |\n",
      "|NextSong        |2018-10-15 01:55:54|paid |\n",
      "|NextSong        |2018-10-15 01:59:24|paid |\n",
      "|NextSong        |2018-10-15 02:02:40|paid |\n",
      "|NextSong        |2018-10-15 02:05:40|paid |\n",
      "|NextSong        |2018-10-15 02:09:17|paid |\n",
      "|NextSong        |2018-10-15 02:12:55|paid |\n",
      "|NextSong        |2018-10-15 02:15:33|paid |\n",
      "|NextSong        |2018-10-15 02:19:59|paid |\n",
      "|NextSong        |2018-10-15 02:24:16|paid |\n",
      "|NextSong        |2018-10-15 02:28:03|paid |\n",
      "|NextSong        |2018-10-15 02:31:57|paid |\n",
      "|NextSong        |2018-10-15 02:37:38|paid |\n",
      "|NextSong        |2018-10-15 02:42:06|paid |\n",
      "|NextSong        |2018-10-15 02:44:19|paid |\n",
      "|NextSong        |2018-10-15 02:47:45|paid |\n",
      "|Settings        |2018-10-15 02:50:10|paid |\n",
      "|NextSong        |2018-10-15 02:51:09|paid |\n",
      "|NextSong        |2018-10-15 02:56:32|paid |\n",
      "|NextSong        |2018-10-15 03:00:11|paid |\n",
      "|NextSong        |2018-10-15 03:03:37|paid |\n",
      "|NextSong        |2018-10-15 03:06:46|paid |\n",
      "|NextSong        |2018-10-15 03:10:39|paid |\n",
      "|NextSong        |2018-10-15 03:14:44|paid |\n",
      "|NextSong        |2018-10-15 03:19:10|paid |\n",
      "|NextSong        |2018-10-15 03:22:48|paid |\n",
      "|NextSong        |2018-10-15 03:26:27|paid |\n",
      "|NextSong        |2018-10-15 03:28:29|paid |\n",
      "|NextSong        |2018-10-15 03:32:04|paid |\n",
      "|NextSong        |2018-10-15 03:35:57|paid |\n",
      "|NextSong        |2018-10-15 03:39:21|paid |\n",
      "|NextSong        |2018-10-15 03:43:14|paid |\n",
      "|NextSong        |2018-10-15 03:48:41|paid |\n",
      "|Add to Playlist |2018-10-15 03:49:06|paid |\n",
      "|NextSong        |2018-10-15 03:52:44|paid |\n",
      "|NextSong        |2018-10-15 03:56:54|paid |\n",
      "|NextSong        |2018-10-15 04:00:17|paid |\n",
      "|NextSong        |2018-10-15 04:04:13|paid |\n",
      "|NextSong        |2018-10-15 04:07:35|paid |\n",
      "|NextSong        |2018-10-15 04:12:01|paid |\n",
      "|NextSong        |2018-10-15 04:19:36|paid |\n",
      "|Help            |2018-10-15 04:20:37|paid |\n",
      "|NextSong        |2018-10-15 04:23:45|paid |\n",
      "|NextSong        |2018-10-15 04:27:44|paid |\n",
      "|Downgrade       |2018-10-15 04:27:44|paid |\n",
      "|NextSong        |2018-10-15 04:30:40|paid |\n",
      "|NextSong        |2018-10-15 04:39:10|paid |\n",
      "|NextSong        |2018-10-15 04:42:49|paid |\n",
      "|NextSong        |2018-10-15 04:46:51|paid |\n",
      "|NextSong        |2018-10-15 04:51:11|paid |\n",
      "|Logout          |2018-10-15 04:51:12|paid |\n",
      "|Home            |2018-10-15 04:52:47|paid |\n",
      "|NextSong        |2018-10-15 04:57:46|paid |\n",
      "|NextSong        |2018-10-15 05:00:59|paid |\n",
      "|NextSong        |2018-10-15 05:11:54|paid |\n",
      "|NextSong        |2018-10-15 05:16:21|paid |\n",
      "|NextSong        |2018-10-15 05:19:05|paid |\n",
      "|NextSong        |2018-10-15 05:23:25|paid |\n",
      "|NextSong        |2018-10-15 05:26:26|paid |\n",
      "|NextSong        |2018-10-15 05:29:23|paid |\n",
      "|NextSong        |2018-10-15 05:32:12|paid |\n",
      "|NextSong        |2018-10-15 05:35:55|paid |\n",
      "|NextSong        |2018-10-15 05:40:10|paid |\n",
      "|NextSong        |2018-10-15 05:45:19|paid |\n",
      "|Add to Playlist |2018-10-15 05:45:22|paid |\n",
      "|NextSong        |2018-10-15 05:49:52|paid |\n",
      "|Thumbs Up       |2018-10-15 05:49:53|paid |\n",
      "|NextSong        |2018-10-15 05:55:40|paid |\n",
      "|NextSong        |2018-10-15 06:02:00|paid |\n",
      "|NextSong        |2018-10-15 06:06:12|paid |\n",
      "|NextSong        |2018-10-15 06:10:15|paid |\n",
      "|Thumbs Up       |2018-10-15 06:10:16|paid |\n",
      "|NextSong        |2018-10-15 06:16:34|paid |\n",
      "|NextSong        |2018-10-15 06:20:30|paid |\n",
      "|NextSong        |2018-10-15 06:24:21|paid |\n",
      "|NextSong        |2018-10-15 06:30:05|paid |\n",
      "|NextSong        |2018-10-15 06:34:54|paid |\n",
      "|NextSong        |2018-10-15 06:39:20|paid |\n",
      "|NextSong        |2018-10-15 06:39:41|paid |\n",
      "|NextSong        |2018-10-15 06:44:14|paid |\n",
      "|NextSong        |2018-10-15 06:47:42|paid |\n",
      "|NextSong        |2018-10-15 06:50:35|paid |\n",
      "|NextSong        |2018-10-15 06:55:08|paid |\n",
      "|NextSong        |2018-10-15 06:59:14|paid |\n",
      "|NextSong        |2018-10-15 07:02:55|paid |\n",
      "|NextSong        |2018-10-15 07:06:28|paid |\n",
      "|NextSong        |2018-10-15 07:09:36|paid |\n",
      "|NextSong        |2018-10-15 07:10:47|paid |\n",
      "|NextSong        |2018-10-15 07:15:15|paid |\n",
      "|NextSong        |2018-10-15 07:18:56|paid |\n",
      "|NextSong        |2018-10-15 07:23:49|paid |\n",
      "|NextSong        |2018-10-15 07:26:15|paid |\n",
      "|NextSong        |2018-10-15 07:29:43|paid |\n",
      "|NextSong        |2018-10-15 07:33:41|paid |\n",
      "|NextSong        |2018-10-15 07:37:47|paid |\n",
      "|NextSong        |2018-10-15 07:41:02|paid |\n",
      "|Add Friend      |2018-10-15 07:41:03|paid |\n",
      "|NextSong        |2018-10-15 07:45:32|paid |\n",
      "|About           |2018-10-15 07:47:01|paid |\n",
      "|NextSong        |2018-10-15 07:49:44|paid |\n",
      "|Thumbs Up       |2018-10-15 07:49:45|paid |\n",
      "|NextSong        |2018-10-15 07:53:40|paid |\n",
      "|NextSong        |2018-10-15 07:57:57|paid |\n",
      "|Thumbs Up       |2018-10-15 07:57:58|paid |\n",
      "|NextSong        |2018-10-15 07:59:55|paid |\n",
      "|NextSong        |2018-10-15 08:03:00|paid |\n",
      "|NextSong        |2018-10-15 08:06:54|paid |\n",
      "|NextSong        |2018-10-15 08:11:06|paid |\n",
      "|NextSong        |2018-10-15 08:16:29|paid |\n",
      "|Home            |2018-10-15 08:16:42|paid |\n",
      "|NextSong        |2018-10-15 08:20:28|paid |\n",
      "|NextSong        |2018-10-15 08:23:37|paid |\n",
      "|NextSong        |2018-10-15 08:27:26|paid |\n",
      "|NextSong        |2018-10-15 08:31:15|paid |\n",
      "|NextSong        |2018-10-15 08:34:59|paid |\n",
      "|NextSong        |2018-10-15 08:38:04|paid |\n",
      "|NextSong        |2018-10-15 08:41:40|paid |\n",
      "|NextSong        |2018-10-15 08:48:51|paid |\n",
      "|NextSong        |2018-10-15 08:53:47|paid |\n",
      "|NextSong        |2018-10-15 08:57:32|paid |\n",
      "|NextSong        |2018-10-17 00:34:17|paid |\n",
      "|Thumbs Up       |2018-10-17 00:34:18|paid |\n",
      "|NextSong        |2018-10-17 00:37:49|paid |\n",
      "|NextSong        |2018-10-17 00:43:42|paid |\n",
      "|Add to Playlist |2018-10-17 00:43:50|paid |\n",
      "|NextSong        |2018-10-18 18:19:51|paid |\n",
      "|NextSong        |2018-10-18 18:24:01|paid |\n",
      "|NextSong        |2018-10-18 18:28:22|paid |\n",
      "|Thumbs Up       |2018-10-18 18:28:23|paid |\n",
      "|NextSong        |2018-10-18 18:33:34|paid |\n",
      "|NextSong        |2018-10-18 18:38:36|paid |\n",
      "|NextSong        |2018-10-18 18:44:33|paid |\n",
      "|NextSong        |2018-10-18 18:48:07|paid |\n",
      "|NextSong        |2018-10-18 18:51:04|paid |\n",
      "|NextSong        |2018-10-18 18:54:57|paid |\n",
      "|NextSong        |2018-10-18 19:02:07|paid |\n",
      "|NextSong        |2018-10-18 19:06:14|paid |\n",
      "|NextSong        |2018-10-18 19:09:25|paid |\n",
      "|NextSong        |2018-10-18 19:13:19|paid |\n",
      "|NextSong        |2018-10-18 19:16:35|paid |\n",
      "|NextSong        |2018-10-18 19:20:40|paid |\n",
      "|NextSong        |2018-10-18 19:24:09|paid |\n",
      "|NextSong        |2018-10-18 19:28:06|paid |\n",
      "|NextSong        |2018-10-18 19:31:07|paid |\n",
      "|NextSong        |2018-10-18 19:34:56|paid |\n",
      "|NextSong        |2018-10-18 19:40:22|paid |\n",
      "|NextSong        |2018-10-18 19:46:42|paid |\n",
      "|NextSong        |2018-10-18 19:50:39|paid |\n",
      "|NextSong        |2018-10-18 19:59:21|paid |\n",
      "|NextSong        |2018-10-18 20:04:10|paid |\n",
      "|NextSong        |2018-10-18 20:07:37|paid |\n",
      "|NextSong        |2018-10-18 20:12:04|paid |\n",
      "|NextSong        |2018-10-18 20:15:16|paid |\n",
      "|NextSong        |2018-10-18 20:20:29|paid |\n",
      "|NextSong        |2018-10-18 20:24:09|paid |\n",
      "|NextSong        |2018-10-18 20:29:40|paid |\n",
      "|NextSong        |2018-10-18 20:32:13|paid |\n",
      "|NextSong        |2018-10-18 20:37:01|paid |\n",
      "|NextSong        |2018-10-18 20:40:45|paid |\n",
      "|NextSong        |2018-10-18 20:44:08|paid |\n",
      "|NextSong        |2018-10-18 20:48:35|paid |\n",
      "|Home            |2018-10-18 20:49:24|paid |\n",
      "|Add Friend      |2018-10-18 20:49:25|paid |\n",
      "|NextSong        |2018-10-18 20:52:50|paid |\n",
      "|NextSong        |2018-10-18 20:56:55|paid |\n",
      "|NextSong        |2018-10-18 21:03:07|paid |\n",
      "|NextSong        |2018-10-18 21:07:38|paid |\n",
      "|NextSong        |2018-10-18 21:11:50|paid |\n",
      "|NextSong        |2018-10-18 21:18:00|paid |\n",
      "|NextSong        |2018-10-18 21:21:42|paid |\n",
      "|NextSong        |2018-10-18 21:26:57|paid |\n",
      "|NextSong        |2018-10-18 21:32:45|paid |\n",
      "|NextSong        |2018-10-18 21:36:41|paid |\n",
      "|NextSong        |2018-10-18 21:40:12|paid |\n",
      "|NextSong        |2018-10-18 21:44:21|paid |\n",
      "|NextSong        |2018-10-18 21:51:55|paid |\n",
      "|Add to Playlist |2018-10-18 21:52:29|paid |\n",
      "|NextSong        |2018-10-18 21:55:57|paid |\n",
      "|NextSong        |2018-10-18 21:59:42|paid |\n",
      "|NextSong        |2018-10-18 22:03:26|paid |\n",
      "|NextSong        |2018-10-18 22:07:52|paid |\n",
      "|NextSong        |2018-10-18 22:11:30|paid |\n",
      "|NextSong        |2018-10-18 22:17:09|paid |\n",
      "|NextSong        |2018-10-18 22:20:40|paid |\n",
      "|NextSong        |2018-10-18 22:23:55|paid |\n",
      "|NextSong        |2018-10-18 22:27:12|paid |\n",
      "|NextSong        |2018-10-18 22:31:24|paid |\n",
      "|NextSong        |2018-10-18 22:36:30|paid |\n",
      "|NextSong        |2018-10-18 22:40:03|paid |\n",
      "|NextSong        |2018-10-18 22:43:58|paid |\n",
      "|NextSong        |2018-10-18 22:47:47|paid |\n",
      "|Logout          |2018-10-18 22:47:48|paid |\n",
      "|Home            |2018-10-18 22:48:56|paid |\n",
      "|NextSong        |2018-10-18 22:52:15|paid |\n",
      "|NextSong        |2018-10-18 22:55:45|paid |\n",
      "|NextSong        |2018-10-18 22:59:46|paid |\n",
      "|NextSong        |2018-10-18 23:05:10|paid |\n",
      "|NextSong        |2018-10-18 23:09:36|paid |\n",
      "|NextSong        |2018-10-18 23:15:41|paid |\n",
      "|Thumbs Up       |2018-10-18 23:15:42|paid |\n",
      "|NextSong        |2018-10-18 23:18:00|paid |\n",
      "|NextSong        |2018-10-18 23:19:52|paid |\n",
      "|NextSong        |2018-10-18 23:23:02|paid |\n",
      "|Add to Playlist |2018-10-18 23:23:20|paid |\n",
      "|NextSong        |2018-10-18 23:28:07|paid |\n",
      "|NextSong        |2018-10-18 23:31:35|paid |\n",
      "|Add to Playlist |2018-10-18 23:31:52|paid |\n",
      "|NextSong        |2018-10-18 23:35:59|paid |\n",
      "|NextSong        |2018-10-18 23:39:41|paid |\n",
      "|NextSong        |2018-10-18 23:44:07|paid |\n",
      "|NextSong        |2018-10-18 23:48:18|paid |\n",
      "|NextSong        |2018-10-18 23:53:05|paid |\n",
      "|NextSong        |2018-10-18 23:58:01|paid |\n",
      "|NextSong        |2018-10-21 09:45:22|paid |\n",
      "|NextSong        |2018-10-21 09:48:42|paid |\n",
      "|NextSong        |2018-10-21 09:53:27|paid |\n",
      "|NextSong        |2018-10-21 09:57:23|paid |\n",
      "|NextSong        |2018-10-21 10:01:33|paid |\n",
      "|NextSong        |2018-10-21 10:05:20|paid |\n",
      "|NextSong        |2018-10-21 10:08:21|paid |\n",
      "|NextSong        |2018-10-21 10:12:48|paid |\n",
      "|NextSong        |2018-10-21 10:16:56|paid |\n",
      "|NextSong        |2018-10-21 10:21:51|paid |\n",
      "|NextSong        |2018-10-21 10:25:54|paid |\n",
      "|NextSong        |2018-10-21 10:29:06|paid |\n",
      "|NextSong        |2018-10-21 10:33:15|paid |\n",
      "|NextSong        |2018-10-21 10:36:42|paid |\n",
      "|NextSong        |2018-10-21 10:40:17|paid |\n",
      "|NextSong        |2018-10-21 10:42:24|paid |\n",
      "|NextSong        |2018-10-21 10:46:18|paid |\n",
      "|NextSong        |2018-10-21 10:50:37|paid |\n",
      "|NextSong        |2018-10-21 10:54:36|paid |\n",
      "|NextSong        |2018-10-21 10:58:05|paid |\n",
      "|NextSong        |2018-10-21 11:01:39|paid |\n",
      "|NextSong        |2018-10-21 11:05:52|paid |\n",
      "|NextSong        |2018-10-21 11:08:44|paid |\n",
      "|NextSong        |2018-10-21 11:13:08|paid |\n",
      "|NextSong        |2018-10-21 11:18:03|paid |\n",
      "|Home            |2018-10-21 11:19:37|paid |\n",
      "|NextSong        |2018-10-21 11:21:52|paid |\n",
      "|NextSong        |2018-10-21 11:25:40|paid |\n",
      "|NextSong        |2018-10-21 11:29:03|paid |\n",
      "|NextSong        |2018-10-21 11:35:02|paid |\n",
      "|NextSong        |2018-10-21 11:37:46|paid |\n",
      "|NextSong        |2018-10-21 11:41:07|paid |\n",
      "|NextSong        |2018-10-21 11:47:05|paid |\n",
      "|NextSong        |2018-10-21 11:58:39|paid |\n",
      "|NextSong        |2018-10-21 12:02:20|paid |\n",
      "|NextSong        |2018-10-21 12:06:47|paid |\n",
      "|NextSong        |2018-10-21 12:11:07|paid |\n",
      "|NextSong        |2018-10-21 12:15:06|paid |\n",
      "|Downgrade       |2018-10-21 12:15:07|paid |\n",
      "|NextSong        |2018-10-21 12:18:49|paid |\n",
      "|NextSong        |2018-10-21 12:22:46|paid |\n",
      "|NextSong        |2018-10-21 12:29:12|paid |\n",
      "|NextSong        |2018-10-21 12:32:34|paid |\n",
      "|NextSong        |2018-10-21 12:36:43|paid |\n",
      "|NextSong        |2018-10-21 12:42:18|paid |\n",
      "|NextSong        |2018-10-21 12:46:36|paid |\n",
      "|Roll Advert     |2018-10-21 12:47:40|paid |\n",
      "|NextSong        |2018-10-21 12:55:00|paid |\n",
      "|Thumbs Down     |2018-10-21 12:55:01|paid |\n",
      "|NextSong        |2018-10-21 12:57:39|paid |\n",
      "|Downgrade       |2018-10-21 12:58:22|paid |\n",
      "|Submit Downgrade|2018-10-21 12:58:23|paid |\n",
      "|Home            |2018-10-21 12:58:37|free |\n",
      "|NextSong        |2018-10-21 13:01:13|free |\n",
      "|Thumbs Down     |2018-10-21 13:01:14|free |\n",
      "|NextSong        |2018-10-21 13:05:34|free |\n",
      "|NextSong        |2018-10-21 13:09:31|free |\n",
      "|NextSong        |2018-10-21 13:13:41|free |\n",
      "|NextSong        |2018-10-21 13:16:19|free |\n",
      "|NextSong        |2018-10-21 13:20:04|free |\n",
      "|NextSong        |2018-10-21 13:27:36|free |\n",
      "|NextSong        |2018-10-21 13:31:44|free |\n",
      "|NextSong        |2018-10-21 13:35:25|free |\n",
      "|NextSong        |2018-10-21 13:39:18|free |\n",
      "|NextSong        |2018-10-21 13:42:55|free |\n",
      "|Thumbs Up       |2018-10-21 13:42:56|free |\n",
      "|NextSong        |2018-10-21 13:46:19|free |\n",
      "|NextSong        |2018-10-21 13:55:28|free |\n",
      "|Logout          |2018-10-21 13:55:29|free |\n",
      "|Home            |2018-10-21 13:56:17|free |\n",
      "|NextSong        |2018-10-21 14:00:12|free |\n",
      "|Roll Advert     |2018-10-21 14:00:26|free |\n",
      "|NextSong        |2018-10-21 14:03:12|free |\n",
      "|NextSong        |2018-10-21 14:06:33|free |\n",
      "|Thumbs Up       |2018-10-21 14:06:34|free |\n",
      "|Home            |2018-10-22 14:35:47|free |\n",
      "|NextSong        |2018-10-22 14:35:53|free |\n",
      "|NextSong        |2018-10-22 14:42:39|free |\n",
      "|Roll Advert     |2018-10-22 14:43:53|free |\n",
      "|NextSong        |2018-10-22 14:47:19|free |\n",
      "|NextSong        |2018-10-22 14:50:40|free |\n",
      "|NextSong        |2018-10-22 14:55:19|free |\n",
      "|NextSong        |2018-10-22 14:58:11|free |\n",
      "|NextSong        |2018-10-22 15:01:52|free |\n",
      "|NextSong        |2018-10-22 15:05:28|free |\n",
      "|Roll Advert     |2018-10-22 15:05:39|free |\n",
      "+----------------+-------------------+-----+\n",
      "only showing top 500 rows\n",
      "\n"
     ]
    }
   ],
   "source": [
    "spark.sql(\"\"\"\n",
    "SELECT page,to_timestamp(ts/1000) as ts,level\n",
    "FROM DATA \n",
    "where userId='100009'\n",
    "order by ts\n",
    "\"\"\").show(500, False)"
   ]
  },
  {
   "cell_type": "markdown",
   "metadata": {},
   "source": [
    "This user after the submit upgrade become paid and after the submit downgrade become free again"
   ]
  },
  {
   "cell_type": "code",
   "execution_count": 31,
   "metadata": {},
   "outputs": [
    {
     "data": {
      "text/plain": [
       "101"
      ]
     },
     "execution_count": 31,
     "metadata": {},
     "output_type": "execute_result"
    }
   ],
   "source": [
    "spark.sql(\"\"\"\n",
    "SELECT distinct userId,page \n",
    "FROM DATA \n",
    "where page in ('Cancellation Confirmation','Submit Downgrade') \n",
    "order by userId,page\n",
    "\"\"\").count()"
   ]
  },
  {
   "cell_type": "code",
   "execution_count": 32,
   "metadata": {},
   "outputs": [],
   "source": [
    "df = df.withColumn(\"churn\", when((col(\"page\")=='Cancellation Confirmation') \\\n",
    "                                 | (col(\"page\")=='Submit Downgrade'),1).otherwise(0))"
   ]
  },
  {
   "cell_type": "code",
   "execution_count": 33,
   "metadata": {},
   "outputs": [
    {
     "name": "stdout",
     "output_type": "stream",
     "text": [
      "+----------------+---------+---------+------+-------------+--------+---------+-----+--------------------+------+--------+-------------+---------+--------------------+------+-------------+--------------------+------+-----+\n",
      "|          artist|     auth|firstName|gender|itemInSession|lastName|   length|level|            location|method|    page| registration|sessionId|                song|status|           ts|           userAgent|userId|churn|\n",
      "+----------------+---------+---------+------+-------------+--------+---------+-----+--------------------+------+--------+-------------+---------+--------------------+------+-------------+--------------------+------+-----+\n",
      "|  Martha Tilston|Logged In|    Colin|     M|           50| Freeman|277.89016| paid|     Bakersfield, CA|   PUT|NextSong|1538173362000|       29|           Rockpools|   200|1538352117000|Mozilla/5.0 (Wind...|    30|    0|\n",
      "|Five Iron Frenzy|Logged In|    Micah|     M|           79|    Long|236.09424| free|Boston-Cambridge-...|   PUT|NextSong|1538331630000|        8|              Canada|   200|1538352180000|\"Mozilla/5.0 (Win...|     9|    0|\n",
      "|    Adam Lambert|Logged In|    Colin|     M|           51| Freeman| 282.8273| paid|     Bakersfield, CA|   PUT|NextSong|1538173362000|       29|   Time For Miracles|   200|1538352394000|Mozilla/5.0 (Wind...|    30|    0|\n",
      "|          Enigma|Logged In|    Micah|     M|           80|    Long|262.71302| free|Boston-Cambridge-...|   PUT|NextSong|1538331630000|        8|Knocking On Forbi...|   200|1538352416000|\"Mozilla/5.0 (Win...|     9|    0|\n",
      "|       Daft Punk|Logged In|    Colin|     M|           52| Freeman|223.60771| paid|     Bakersfield, CA|   PUT|NextSong|1538173362000|       29|Harder Better Fas...|   200|1538352676000|Mozilla/5.0 (Wind...|    30|    0|\n",
      "+----------------+---------+---------+------+-------------+--------+---------+-----+--------------------+------+--------+-------------+---------+--------------------+------+-------------+--------------------+------+-----+\n",
      "only showing top 5 rows\n",
      "\n"
     ]
    }
   ],
   "source": [
    "df.show(5)"
   ]
  },
  {
   "cell_type": "code",
   "execution_count": 34,
   "metadata": {},
   "outputs": [],
   "source": [
    "df.createOrReplaceTempView(\"DATA\")"
   ]
  },
  {
   "cell_type": "code",
   "execution_count": 35,
   "metadata": {},
   "outputs": [
    {
     "name": "stdout",
     "output_type": "stream",
     "text": [
      "+------+-------------------------+-----+\n",
      "|userId|page                     |churn|\n",
      "+------+-------------------------+-----+\n",
      "|100   |Submit Downgrade         |1    |\n",
      "|100001|Cancellation Confirmation|1    |\n",
      "|100003|Cancellation Confirmation|1    |\n",
      "|100004|Submit Downgrade         |1    |\n",
      "|100005|Cancellation Confirmation|1    |\n",
      "+------+-------------------------+-----+\n",
      "only showing top 5 rows\n",
      "\n"
     ]
    }
   ],
   "source": [
    "spark.sql(\"\"\"\n",
    "SELECT distinct userId,page,churn\n",
    "FROM DATA \n",
    "where page in ('Cancellation Confirmation','Submit Downgrade') \n",
    "order by userId,page\n",
    "\"\"\").show(5, False)"
   ]
  },
  {
   "cell_type": "markdown",
   "metadata": {},
   "source": [
    "# Feature Engineering\n",
    "Once you've familiarized yourself with the data, build out the features you find promising to train your model on. To work with the full dataset, you can follow the following steps.\n",
    "- Write a script to extract the necessary features from the smaller subset of data\n",
    "- Ensure that your script is scalable, using the best practices discussed in Lesson 3\n",
    "- Try your script on the full data set, debugging your script if necessary\n",
    "\n",
    "If you are working in the classroom workspace, you can just extract features based on the small subset of data contained here. Be sure to transfer over this work to the larger dataset when you work on your Spark cluster."
   ]
  },
  {
   "cell_type": "code",
   "execution_count": 36,
   "metadata": {},
   "outputs": [
    {
     "name": "stdout",
     "output_type": "stream",
     "text": [
      "+-------------------+-------------------+\n",
      "|max_ts             |min_ts             |\n",
      "+-------------------+-------------------+\n",
      "|2018-12-03 01:11:16|2018-10-01 00:01:57|\n",
      "+-------------------+-------------------+\n",
      "\n"
     ]
    }
   ],
   "source": [
    "spark.sql(\"\"\"\n",
    "SELECT max(to_timestamp(ts/1000)) as max_ts,min(to_timestamp(ts/1000)) as min_ts\n",
    "FROM DATA \n",
    "\"\"\").show(5, False)"
   ]
  },
  {
   "cell_type": "code",
   "execution_count": 37,
   "metadata": {},
   "outputs": [],
   "source": [
    "df_dataset = spark.sql(\"\"\"\n",
    "SELECT   DATA.userId,\n",
    "         case when gender='M' then 1 else 0 end as is_male_flag,\n",
    "         max(churn) as churn,\n",
    "         count(distinct ts_day) as days_in_app,\n",
    "         count(distinct song)/sum(case when song is not null then 1 else 0 end) as avg_songs,\n",
    "         count(distinct artist)/sum(case when song is not null then 1 else 0 end) as avg_artists,\n",
    "         round(sum(length/60)/sum(case when song is not null then 1 else 0 end),2) as avg_song_length,\n",
    "         count(1) as events_cnt, \n",
    "         count(1)/count(distinct ts_day) as avg_sessions_per_day,\n",
    "         sum(case when DATA.page='NextSong' then 1 else 0 end)/count(distinct ts_day) as avg_pg_song_cnt,\n",
    "         sum(case when DATA.page='Roll Advert' then 1 else 0 end)/count(distinct ts_day) as avg_pg_advert_cnt,\n",
    "         sum(case when DATA.page='Logout' then 1 else 0 end)/count(distinct ts_day) as avg_pg_logout_cnt,\n",
    "         sum(case when DATA.page='Thumbs Down' then 1 else 0 end)/count(distinct ts_day) as avg_pg_down_cnt,\n",
    "         sum(case when DATA.page='Thumbs Up' then 1 else 0 end)/count(distinct ts_day) as avg_pg_up_cnt,\n",
    "         sum(case when DATA.page='Add Friend' then 1 else 0 end)/count(distinct ts_day) as avg_pg_friend_cnt,\n",
    "         sum(case when DATA.page='Add to Playlist' then 1 else 0 end)/count(distinct ts_day) as avg_pg_playlist_cnt,\n",
    "         sum(case when DATA.page='Help' then 1 else 0 end)/count(distinct ts_day) as avg_pg_help_cnt,\n",
    "         sum(case when DATA.page='Home' then 1 else 0 end)/count(distinct ts_day) as avg_pg_home_cnt,\n",
    "         sum(case when DATA.page='Save Settings' then 1 else 0 end)/count(distinct ts_day) as avg_pg_save_settings_cnt,\n",
    "         sum(case when DATA.page='About' then 1 else 0 end)/count(distinct ts_day) as avg_pg_about_cnt,\n",
    "         sum(case when DATA.page='Settings' then 1 else 0 end)/count(distinct ts_day) as avg_pg_settings_cnt,\n",
    "         sum(case when DATA.page='Login' then 1 else 0 end)/count(distinct ts_day) as avg_pg_login_cnt,\n",
    "         sum(case when DATA.page='Submit Registration' then 1 else 0 end)/count(distinct ts_day) as avg_pg_sub_reg_cnt,\n",
    "         sum(case when DATA.page='Register' then 1 else 0 end)/count(distinct ts_day) as avg_pg_reg_cnt,\n",
    "         sum(case when DATA.page='Upgrade' then 1 else 0 end)/count(distinct ts_day) as avg_pg_upg_cnt,\n",
    "         sum(case when DATA.page='Submit Upgrade' then 1 else 0 end)/count(distinct ts_day) as avg_pg_sub_upg_cnt,\n",
    "         sum(case when DATA.page='Error' then 1 else 0 end)/count(distinct ts_day) as avg_pg_error_cnt\n",
    "         FROM DATA\n",
    "         LEFT JOIN \n",
    "         (\n",
    "             SELECT distinct DATE_TRUNC('day', to_timestamp(ts/1000)) as ts_day, userId FROM DATA \n",
    "         ) day_ts\n",
    "         ON day_ts.userId=DATA.userId\n",
    "         GROUP BY DATA.userId,gender\n",
    "\"\"\")"
   ]
  },
  {
   "cell_type": "code",
   "execution_count": 38,
   "metadata": {},
   "outputs": [
    {
     "data": {
      "text/plain": [
       "(array([0, 1]), <a list of 2 Text xticklabel objects>)"
      ]
     },
     "execution_count": 38,
     "metadata": {},
     "output_type": "execute_result"
    },
    {
     "data": {
      "image/png": "[encoded data removed]",
      "text/plain": [
       "<matplotlib.figure.Figure at 0x7f48d2771c18>"
      ]
     },
     "metadata": {
      "needs_background": "light"
     },
     "output_type": "display_data"
    }
   ],
   "source": [
    "churn_cnt = df_dataset.select(col('churn'),col('userId')).groupby('churn').count().toPandas()\n",
    "#churn_cnt.show()\n",
    "sns.barplot('churn','count', data=churn_cnt)\n",
    "plt.title('Churn Distribution')\n",
    "plt.xticks(rotation = 90)"
   ]
  },
  {
   "cell_type": "code",
   "execution_count": 39,
   "metadata": {},
   "outputs": [
    {
     "data": {
      "text/plain": [
       "(array([0, 1]), <a list of 2 Text xticklabel objects>)"
      ]
     },
     "execution_count": 39,
     "metadata": {},
     "output_type": "execute_result"
    },
    {
     "data": {
      "image/png": "[encoded data removed]",
      "text/plain": [
       "<matplotlib.figure.Figure at 0x7f48d27915f8>"
      ]
     },
     "metadata": {
      "needs_background": "light"
     },
     "output_type": "display_data"
    }
   ],
   "source": [
    "is_male_flag_dstr = df_dataset.select(col('is_male_flag'),col('churn')).groupby('is_male_flag','churn').agg(count(\"churn\").alias(\"churn_cnt\")).toPandas()\n",
    "#is_male_flag_dstr.show()\n",
    "sns.barplot('churn', 'churn_cnt', hue = 'is_male_flag', data=is_male_flag_dstr)\n",
    "plt.title('Churn Distribution Per Gender')\n",
    "plt.xticks(rotation = 90)"
   ]
  },
  {
   "cell_type": "code",
   "execution_count": 40,
   "metadata": {},
   "outputs": [
    {
     "data": {
      "text/plain": [
       "(array([0, 1]), <a list of 2 Text xticklabel objects>)"
      ]
     },
     "execution_count": 40,
     "metadata": {},
     "output_type": "execute_result"
    },
    {
     "data": {
      "image/png": "[encoded data removed]",
      "text/plain": [
       "<matplotlib.figure.Figure at 0x7f48d27cccc0>"
      ]
     },
     "metadata": {
      "needs_background": "light"
     },
     "output_type": "display_data"
    }
   ],
   "source": [
    "is_male_flag_dstr = df_dataset.select(col('is_male_flag'),col('churn')).groupby('is_male_flag').agg(F.mean(\"churn\").alias(\"avg_churn_cnt\")).toPandas()\n",
    "#is_male_flag_dstr.show()\n",
    "sns.barplot('is_male_flag', 'avg_churn_cnt', data=is_male_flag_dstr)\n",
    "plt.title('Average Churn Distribution Per Gender')\n",
    "plt.xticks(rotation = 90)"
   ]
  },
  {
   "cell_type": "code",
   "execution_count": 41,
   "metadata": {},
   "outputs": [
    {
     "data": {
      "text/plain": [
       "(array([0, 1]), <a list of 2 Text xticklabel objects>)"
      ]
     },
     "execution_count": 41,
     "metadata": {},
     "output_type": "execute_result"
    },
    {
     "data": {
      "image/png": "[encoded data removed]",
      "text/plain": [
       "<matplotlib.figure.Figure at 0x7f48d1ddf0b8>"
      ]
     },
     "metadata": {
      "needs_background": "light"
     },
     "output_type": "display_data"
    }
   ],
   "source": [
    "days_in_app_dstr = df_dataset.select(col('days_in_app'),col('churn')).groupby('churn').agg(F.mean(\"days_in_app\").alias(\"avg_days_in_app\")).toPandas()\n",
    "#is_male_flag_dstr.show()\n",
    "sns.barplot('churn', 'avg_days_in_app', data=days_in_app_dstr)\n",
    "plt.title('Churn Distribution Per Average Days in App')\n",
    "plt.xticks(rotation = 90)"
   ]
  },
  {
   "cell_type": "code",
   "execution_count": 42,
   "metadata": {},
   "outputs": [
    {
     "data": {
      "text/plain": [
       "(array([0, 1]), <a list of 2 Text xticklabel objects>)"
      ]
     },
     "execution_count": 42,
     "metadata": {},
     "output_type": "execute_result"
    },
    {
     "data": {
      "image/png": "[encoded data removed]",
      "text/plain": [
       "<matplotlib.figure.Figure at 0x7f48d1d33da0>"
      ]
     },
     "metadata": {
      "needs_background": "light"
     },
     "output_type": "display_data"
    }
   ],
   "source": [
    "days_in_app_dstr = df_dataset.select(col('avg_sessions_per_day'),col('churn')).groupby('churn').agg(F.mean(\"avg_sessions_per_day\").alias(\"avg_sessions_per_day\")).toPandas()\n",
    "#is_male_flag_dstr.show()\n",
    "sns.barplot('churn', 'avg_sessions_per_day', data=days_in_app_dstr)\n",
    "plt.title('Churn Distribution Per Average Sessions Per Day')\n",
    "plt.xticks(rotation = 90)"
   ]
  },
  {
   "cell_type": "code",
   "execution_count": 43,
   "metadata": {},
   "outputs": [
    {
     "data": {
      "text/plain": [
       "(array([0, 1]), <a list of 2 Text xticklabel objects>)"
      ]
     },
     "execution_count": 43,
     "metadata": {},
     "output_type": "execute_result"
    },
    {
     "data": {
      "image/png": "[encoded data removed]",
      "text/plain": [
       "<matplotlib.figure.Figure at 0x7f48d1d1aa58>"
      ]
     },
     "metadata": {
      "needs_background": "light"
     },
     "output_type": "display_data"
    }
   ],
   "source": [
    "days_in_app_dstr = df_dataset.select(col('avg_pg_down_cnt'),col('churn')).groupby('churn').agg(F.mean(\"avg_pg_down_cnt\").alias(\"avg_pg_thumbs_down\")).toPandas()\n",
    "#is_male_flag_dstr.show()\n",
    "sns.barplot('churn', 'avg_pg_thumbs_down', data=days_in_app_dstr)\n",
    "plt.title('Churn Distribution Per Average Thumbs Down Per Day')\n",
    "plt.xticks(rotation = 90)"
   ]
  },
  {
   "cell_type": "code",
   "execution_count": 44,
   "metadata": {},
   "outputs": [
    {
     "data": {
      "text/plain": [
       "(array([0, 1]), <a list of 2 Text xticklabel objects>)"
      ]
     },
     "execution_count": 44,
     "metadata": {},
     "output_type": "execute_result"
    },
    {
     "data": {
      "image/png": "[encoded data removed]",
      "text/plain": [
       "<matplotlib.figure.Figure at 0x7f48d1cd6ba8>"
      ]
     },
     "metadata": {
      "needs_background": "light"
     },
     "output_type": "display_data"
    }
   ],
   "source": [
    "days_in_app_dstr = df_dataset.select(col('avg_pg_up_cnt'),col('churn')).groupby('churn').agg(F.mean(\"avg_pg_up_cnt\").alias(\"avg_pg_thumps_up\")).toPandas()\n",
    "#is_male_flag_dstr.show()\n",
    "sns.barplot('churn', 'avg_pg_thumps_up', data=days_in_app_dstr)\n",
    "plt.title('Churn Distribution Per Average Thumbs Up Per Day')\n",
    "plt.xticks(rotation = 90)"
   ]
  },
  {
   "cell_type": "code",
   "execution_count": 45,
   "metadata": {},
   "outputs": [
    {
     "data": {
      "text/plain": [
       "(array([0, 1]), <a list of 2 Text xticklabel objects>)"
      ]
     },
     "execution_count": 45,
     "metadata": {},
     "output_type": "execute_result"
    },
    {
     "data": {
      "image/png": "[encoded data removed]",
      "text/plain": [
       "<matplotlib.figure.Figure at 0x7f48d1c50cf8>"
      ]
     },
     "metadata": {
      "needs_background": "light"
     },
     "output_type": "display_data"
    }
   ],
   "source": [
    "days_in_app_dstr = df_dataset.select(col('avg_pg_friend_cnt'),col('churn')).groupby('churn').agg(F.mean(\"avg_pg_friend_cnt\").alias(\"avg_pg_friend_cnt\")).toPandas()\n",
    "#is_male_flag_dstr.show()\n",
    "sns.barplot('churn', 'avg_pg_friend_cnt', data=days_in_app_dstr)\n",
    "plt.title('Churn Distribution Per Average Add Friends Per Day')\n",
    "plt.xticks(rotation = 90)"
   ]
  },
  {
   "cell_type": "code",
   "execution_count": 46,
   "metadata": {},
   "outputs": [
    {
     "data": {
      "text/plain": [
       "(array([0, 1]), <a list of 2 Text xticklabel objects>)"
      ]
     },
     "execution_count": 46,
     "metadata": {},
     "output_type": "execute_result"
    },
    {
     "data": {
      "image/png": "[encoded data removed]",
      "text/plain": [
       "<matplotlib.figure.Figure at 0x7f48d1c31860>"
      ]
     },
     "metadata": {
      "needs_background": "light"
     },
     "output_type": "display_data"
    }
   ],
   "source": [
    "days_in_app_dstr = df_dataset.select(col('avg_pg_playlist_cnt'),col('churn')).groupby('churn').agg(F.mean(\"avg_pg_playlist_cnt\").alias(\"avg_pg_playlist_cnt\")).toPandas()\n",
    "#is_male_flag_dstr.show()\n",
    "sns.barplot('churn', 'avg_pg_playlist_cnt', data=days_in_app_dstr)\n",
    "plt.title('Churn Distribution Per Average Add to Playlist Per Day')\n",
    "plt.xticks(rotation = 90)"
   ]
  },
  {
   "cell_type": "code",
   "execution_count": 47,
   "metadata": {
    "scrolled": true
   },
   "outputs": [
    {
     "data": {
      "text/plain": [
       "(array([0, 1]), <a list of 2 Text xticklabel objects>)"
      ]
     },
     "execution_count": 47,
     "metadata": {},
     "output_type": "execute_result"
    },
    {
     "data": {
      "image/png": "[encoded data removed]",
      "text/plain": [
       "<matplotlib.figure.Figure at 0x7f48d1c4add8>"
      ]
     },
     "metadata": {
      "needs_background": "light"
     },
     "output_type": "display_data"
    }
   ],
   "source": [
    "days_in_app_dstr = df_dataset.select(col('avg_pg_advert_cnt'),col('churn')).groupby('churn').agg(F.mean(\"avg_pg_advert_cnt\").alias(\"avg_pg_advert_cnt\")).toPandas()\n",
    "#is_male_flag_dstr.show()\n",
    "sns.barplot('churn', 'avg_pg_advert_cnt', data=days_in_app_dstr)\n",
    "plt.title('Churn Distribution Per Average Advert Per Day')\n",
    "plt.xticks(rotation = 90)"
   ]
  },
  {
   "cell_type": "code",
   "execution_count": 48,
   "metadata": {},
   "outputs": [
    {
     "data": {
      "text/plain": [
       "(array([0, 1]), <a list of 2 Text xticklabel objects>)"
      ]
     },
     "execution_count": 48,
     "metadata": {},
     "output_type": "execute_result"
    },
    {
     "data": {
      "image/png": "[encoded data removed]",
      "text/plain": [
       "<matplotlib.figure.Figure at 0x7f48d1b62d68>"
      ]
     },
     "metadata": {
      "needs_background": "light"
     },
     "output_type": "display_data"
    }
   ],
   "source": [
    "days_in_app_dstr = df_dataset.select(col('avg_pg_error_cnt'),col('churn')).groupby('churn').agg(F.mean(\"avg_pg_error_cnt\").alias(\"avg_pg_error_cnt\")).toPandas()\n",
    "#is_male_flag_dstr.show()\n",
    "sns.barplot('churn', 'avg_pg_error_cnt', data=days_in_app_dstr)\n",
    "plt.title('Churn Distribution Per Error Per Day')\n",
    "plt.xticks(rotation = 90)"
   ]
  },
  {
   "cell_type": "code",
   "execution_count": 49,
   "metadata": {},
   "outputs": [
    {
     "data": {
      "text/plain": [
       "(array([0, 1]), <a list of 2 Text xticklabel objects>)"
      ]
     },
     "execution_count": 49,
     "metadata": {},
     "output_type": "execute_result"
    },
    {
     "data": {
      "image/png": "[encoded data removed]",
      "text/plain": [
       "<matplotlib.figure.Figure at 0x7f48d1b30898>"
      ]
     },
     "metadata": {
      "needs_background": "light"
     },
     "output_type": "display_data"
    }
   ],
   "source": [
    "days_in_app_dstr = df_dataset.select(col('events_cnt'),col('churn')).groupby('churn').agg(F.mean(\"events_cnt\").alias(\"avg_events_cnt\")).toPandas()\n",
    "#is_male_flag_dstr.show()\n",
    "sns.barplot('churn', 'avg_events_cnt', data=days_in_app_dstr)\n",
    "plt.title('Churn Distribution Per Events Average')\n",
    "plt.xticks(rotation = 90)"
   ]
  },
  {
   "cell_type": "code",
   "execution_count": 50,
   "metadata": {},
   "outputs": [
    {
     "data": {
      "text/plain": [
       "(array([0, 1]), <a list of 2 Text xticklabel objects>)"
      ]
     },
     "execution_count": 50,
     "metadata": {},
     "output_type": "execute_result"
    },
    {
     "data": {
      "image/png": "[encoded data removed]",
      "text/plain": [
       "<matplotlib.figure.Figure at 0x7f48d1b489e8>"
      ]
     },
     "metadata": {
      "needs_background": "light"
     },
     "output_type": "display_data"
    }
   ],
   "source": [
    "days_in_app_dstr = df_dataset.select(col('avg_pg_song_cnt'),col('churn')).groupby('churn').agg(F.mean(\"avg_pg_song_cnt\").alias(\"avg_pg_song_cnt\")).toPandas()\n",
    "#is_male_flag_dstr.show()\n",
    "sns.barplot('churn', 'avg_pg_song_cnt', data=days_in_app_dstr)\n",
    "plt.title('Churn Distribution Per Songs Average')\n",
    "plt.xticks(rotation = 90)"
   ]
  },
  {
   "cell_type": "code",
   "execution_count": 51,
   "metadata": {},
   "outputs": [
    {
     "data": {
      "text/plain": [
       "(array([0, 1]), <a list of 2 Text xticklabel objects>)"
      ]
     },
     "execution_count": 51,
     "metadata": {},
     "output_type": "execute_result"
    },
    {
     "data": {
      "image/png": "[encoded data removed]",
      "text/plain": [
       "<matplotlib.figure.Figure at 0x7f48d1a464a8>"
      ]
     },
     "metadata": {
      "needs_background": "light"
     },
     "output_type": "display_data"
    }
   ],
   "source": [
    "days_in_app_dstr = df_dataset.select(col('avg_pg_logout_cnt'),col('churn')).groupby('churn').agg(F.mean(\"avg_pg_logout_cnt\").alias(\"avg_pg_logout_cnt\")).toPandas()\n",
    "#is_male_flag_dstr.show()\n",
    "sns.barplot('churn', 'avg_pg_logout_cnt', data=days_in_app_dstr)\n",
    "plt.title('Churn Distribution Per LogOut Average')\n",
    "plt.xticks(rotation = 90)"
   ]
  },
  {
   "cell_type": "code",
   "execution_count": 52,
   "metadata": {},
   "outputs": [
    {
     "data": {
      "text/plain": [
       "(array([0, 1]), <a list of 2 Text xticklabel objects>)"
      ]
     },
     "execution_count": 52,
     "metadata": {},
     "output_type": "execute_result"
    },
    {
     "data": {
      "image/png": "[encoded data removed]",
      "text/plain": [
       "<matplotlib.figure.Figure at 0x7f48d1a25b38>"
      ]
     },
     "metadata": {
      "needs_background": "light"
     },
     "output_type": "display_data"
    }
   ],
   "source": [
    "days_in_app_dstr = df_dataset.select(col('avg_pg_sub_upg_cnt'),col('churn')).groupby('churn').agg(F.mean(\"avg_pg_sub_upg_cnt\").alias(\"avg_pg_sub_upg_cnt\")).toPandas()\n",
    "#is_male_flag_dstr.show()\n",
    "sns.barplot('churn', 'avg_pg_sub_upg_cnt', data=days_in_app_dstr)\n",
    "plt.title('Churn Distribution Per Upgrade Average')\n",
    "plt.xticks(rotation = 90)"
   ]
  },
  {
   "cell_type": "markdown",
   "metadata": {},
   "source": [
    "# Modeling\n",
    "Split the full dataset into train, test, and validation sets. Test out several of the machine learning methods you learned. Evaluate the accuracy of the various models, tuning parameters as necessary. Determine your winning model based on test accuracy and report results on the validation set. Since the churned users are a fairly small subset, I suggest using F1 score as the metric to optimize."
   ]
  },
  {
   "cell_type": "code",
   "execution_count": 73,
   "metadata": {},
   "outputs": [],
   "source": [
    "df_dataset = spark.sql(\"\"\"\n",
    "SELECT   DATA.userId,\n",
    "         case when gender='M' then 1 else 0 end as is_male_flag,\n",
    "         max(churn) as churn,\n",
    "         count(distinct ts_day) as days_in_app,\n",
    "         count(distinct song)/sum(case when song is not null then 1 else 0 end) as avg_songs,\n",
    "         count(distinct artist)/sum(case when song is not null then 1 else 0 end) as avg_artists,\n",
    "         round(sum(length/60)/sum(case when song is not null then 1 else 0 end),2) as avg_song_length,\n",
    "         count(1) as events_cnt, \n",
    "         count(1)/count(distinct ts_day) as avg_sessions_per_day,\n",
    "         sum(case when DATA.page='NextSong' then 1 else 0 end)/count(distinct ts_day) as avg_pg_song_cnt,\n",
    "         sum(case when DATA.page='Roll Advert' then 1 else 0 end)/count(distinct ts_day) as avg_pg_advert_cnt,\n",
    "         sum(case when DATA.page='Logout' then 1 else 0 end)/count(distinct ts_day) as avg_pg_logout_cnt,\n",
    "         sum(case when DATA.page='Thumbs Down' then 1 else 0 end)/count(distinct ts_day) as avg_pg_down_cnt,\n",
    "         sum(case when DATA.page='Thumbs Up' then 1 else 0 end)/count(distinct ts_day) as avg_pg_up_cnt,\n",
    "         sum(case when DATA.page='Add Friend' then 1 else 0 end)/count(distinct ts_day) as avg_pg_friend_cnt,\n",
    "         sum(case when DATA.page='Add to Playlist' then 1 else 0 end)/count(distinct ts_day) as avg_pg_playlist_cnt,\n",
    "         sum(case when DATA.page='Help' then 1 else 0 end)/count(distinct ts_day) as avg_pg_help_cnt,\n",
    "         sum(case when DATA.page='Home' then 1 else 0 end)/count(distinct ts_day) as avg_pg_home_cnt,\n",
    "         sum(case when DATA.page='Save Settings' then 1 else 0 end)/count(distinct ts_day) as avg_pg_save_settings_cnt,\n",
    "         sum(case when DATA.page='About' then 1 else 0 end)/count(distinct ts_day) as avg_pg_about_cnt,\n",
    "         sum(case when DATA.page='Settings' then 1 else 0 end)/count(distinct ts_day) as avg_pg_settings_cnt,\n",
    "         sum(case when DATA.page='Login' then 1 else 0 end)/count(distinct ts_day) as avg_pg_login_cnt,\n",
    "         sum(case when DATA.page='Submit Registration' then 1 else 0 end)/count(distinct ts_day) as avg_pg_sub_reg_cnt,\n",
    "         sum(case when DATA.page='Register' then 1 else 0 end)/count(distinct ts_day) as avg_pg_reg_cnt,\n",
    "         sum(case when DATA.page='Upgrade' then 1 else 0 end)/count(distinct ts_day) as avg_pg_upg_cnt,\n",
    "         sum(case when DATA.page='Submit Upgrade' then 1 else 0 end)/count(distinct ts_day) as avg_pg_sub_upg_cnt,\n",
    "         sum(case when DATA.page='Error' then 1 else 0 end)/count(distinct ts_day) as avg_pg_error_cnt\n",
    "         FROM DATA\n",
    "         LEFT JOIN \n",
    "         (\n",
    "             SELECT distinct DATE_TRUNC('day', to_timestamp(ts/1000)) as ts_day, userId FROM DATA \n",
    "         ) day_ts\n",
    "         ON day_ts.userId=DATA.userId\n",
    "         GROUP BY DATA.userId,gender\n",
    "\"\"\")"
   ]
  },
  {
   "cell_type": "code",
   "execution_count": 74,
   "metadata": {},
   "outputs": [],
   "source": [
    "#for column in ['days_in_app','events_cnt','avg_sessions_per_day','avg_pg_song_cnt','avg_pg_advert_cnt',\n",
    "#               'avg_pg_friend_cnt','avg_pg_playlist_cnt','avg_songs','avg_artists','avg_song_length',\n",
    "#               'avg_pg_logout_cnt','avg_pg_sub_upg_cnt','avg_pg_upg_cnt','avg_pg_down_cnt','avg_pg_up_cnt',\n",
    "#               'avg_pg_error_cnt'\n",
    "#              ]:\n",
    "for column in [ 'days_in_app',\n",
    "                'events_cnt', \n",
    "                'avg_sessions_per_day',\n",
    "                'avg_pg_song_cnt',\n",
    "                'avg_pg_advert_cnt',\n",
    "                'avg_pg_down_cnt',\n",
    "                'avg_pg_up_cnt',\n",
    "                'avg_pg_friend_cnt',\n",
    "                'avg_pg_playlist_cnt',\n",
    "                'avg_pg_upg_cnt',\n",
    "                'avg_pg_sub_upg_cnt',\n",
    "                'avg_pg_error_cnt',\n",
    "                'avg_pg_logout_cnt'\n",
    "                ]:\n",
    "    # VectorAssembler Transformation - Converting column to vector type\n",
    "    vector_assempler = VectorAssembler(inputCols=[column],outputCol=column+\"_vect\")\n",
    "\n",
    "    # MinMaxScaler Transformation\n",
    "    scaler = MinMaxScaler(inputCol=column+\"_vect\", outputCol=column+\"_scaled\")\n",
    "\n",
    "    # Pipeline of VectorAssembler and MinMaxScaler\n",
    "    pipeline = Pipeline(stages=[vector_assempler, scaler])\n",
    "\n",
    "    # Fitting pipeline on dataframe\n",
    "    df_dataset = pipeline.fit(df_dataset).transform(df_dataset).drop(column+\"_vect\")"
   ]
  },
  {
   "cell_type": "code",
   "execution_count": 75,
   "metadata": {},
   "outputs": [],
   "source": [
    "#features_vector_assempler = VectorAssembler(inputCols=['days_in_app_scaled','events_cnt_scaled',\n",
    "#                'avg_sessions_per_day_scaled','avg_pg_song_cnt_scaled','avg_pg_advert_cnt_scaled',\n",
    "#               'avg_pg_friend_cnt_scaled','avg_pg_playlist_cnt_scaled','avg_songs_scaled','avg_artists_scaled',\n",
    "#                'avg_song_length_scaled','avg_pg_logout_cnt_scaled','avg_pg_sub_upg_cnt_scaled',\n",
    "#                'avg_pg_upg_cnt_scaled','avg_pg_down_cnt_scaled','avg_pg_up_cnt_scaled',\n",
    "#               'avg_pg_error_cnt_scaled'\n",
    "#                ],outputCol=\"features\")\n",
    "features_vector_assempler = VectorAssembler(inputCols=['is_male_flag',\n",
    "                                'days_in_app_scaled',\n",
    "                                'events_cnt_scaled', \n",
    "                                'avg_sessions_per_day_scaled',\n",
    "                                'avg_pg_song_cnt_scaled',\n",
    "                                'avg_pg_advert_cnt_scaled',\n",
    "                                'avg_pg_down_cnt_scaled',\n",
    "                                'avg_pg_up_cnt_scaled',\n",
    "                                'avg_pg_friend_cnt_scaled',\n",
    "                                'avg_pg_playlist_cnt_scaled',\n",
    "                                'avg_pg_upg_cnt',\n",
    "                                'avg_pg_sub_upg_cnt',\n",
    "                                'avg_pg_error_cnt',\n",
    "                                'avg_pg_logout_cnt'],outputCol=\"features\")\n",
    "df_dataset_model = features_vector_assempler.transform(df_dataset)"
   ]
  },
  {
   "cell_type": "code",
   "execution_count": 76,
   "metadata": {},
   "outputs": [],
   "source": [
    "df_dataset_model = df_dataset_model.select(col(\"churn\").alias(\"label\"),col(\"features\"))"
   ]
  },
  {
   "cell_type": "code",
   "execution_count": 77,
   "metadata": {},
   "outputs": [
    {
     "name": "stdout",
     "output_type": "stream",
     "text": [
      "Training Dataset Count: 187\n",
      "Test Dataset Count: 38\n"
     ]
    }
   ],
   "source": [
    "#Test 1\n",
    "train, test = df_dataset_model.randomSplit([0.8, 0.2], seed=7)\n",
    "#sub_test, validation = test.randomSplit([0.5, 0.5], seed = 7)\n",
    "print(\"Training Dataset Count: \" + str(train.count()))\n",
    "print(\"Test Dataset Count: \" + str(test.count()))"
   ]
  },
  {
   "cell_type": "code",
   "execution_count": 78,
   "metadata": {},
   "outputs": [
    {
     "name": "stdout",
     "output_type": "stream",
     "text": [
      "GBT Accuracy: 55.26, GBT Precision: 55.53, GBT Recall: 55.26, GBT F1-Score: 55.36\n"
     ]
    }
   ],
   "source": [
    "gbt = GBTClassifier(featuresCol = 'features', labelCol = \"label\", maxIter = 10, maxDepth = 10, seed = 7)\n",
    "gbt_fitted_model = gbt.fit(train)\n",
    "predictions = gbt_fitted_model.transform(test)\n",
    "f1 = MulticlassClassificationEvaluator(metricName = 'f1')\n",
    "acc = MulticlassClassificationEvaluator(metricName = 'accuracy')\n",
    "prec = MulticlassClassificationEvaluator(metricName = 'weightedPrecision')\n",
    "rec = MulticlassClassificationEvaluator(metricName = 'weightedRecall')\n",
    "gbt_f1_score = f1.evaluate(predictions)\n",
    "gbt_acc_score = acc.evaluate(predictions)\n",
    "gbt_prec_score = prec.evaluate(predictions)\n",
    "gbt_rec_score = rec.evaluate(predictions)\n",
    "print('GBT Accuracy: {}, GBT Precision: {}, GBT Recall: {}, GBT F1-Score: {}'.format(round(gbt_acc_score*100,2),round(gbt_prec_score*100,2),round(gbt_rec_score*100,2),round(gbt_f1_score*100,2)))"
   ]
  },
  {
   "cell_type": "code",
   "execution_count": 79,
   "metadata": {},
   "outputs": [
    {
     "name": "stdout",
     "output_type": "stream",
     "text": [
      "Random Forest Accuracy: 68.42, Random Forest Precision: 71.0, Random Forest Recall: 68.42, Random Forest F1-Score: 66.09\n"
     ]
    }
   ],
   "source": [
    "rf = RandomForestClassifier()\n",
    "rf_fitted_model = rf.fit(train)\n",
    "predictions = rf_fitted_model.transform(test)\n",
    "f1 = MulticlassClassificationEvaluator(metricName = 'f1')\n",
    "acc = MulticlassClassificationEvaluator(metricName = 'accuracy')\n",
    "prec = MulticlassClassificationEvaluator(metricName = 'weightedPrecision')\n",
    "rec = MulticlassClassificationEvaluator(metricName = 'weightedRecall')\n",
    "rf_f1_score = f1.evaluate(predictions)\n",
    "rf_acc_score = acc.evaluate(predictions)\n",
    "rf_prec_score = prec.evaluate(predictions)\n",
    "rf_rec_score = rec.evaluate(predictions)\n",
    "print('Random Forest Accuracy: {}, Random Forest Precision: {}, Random Forest Recall: {}, Random Forest F1-Score: {}'.format(round(rf_acc_score*100,2),round(rf_prec_score*100,2),round(rf_rec_score*100,2),round(rf_f1_score*100,2)))"
   ]
  },
  {
   "cell_type": "code",
   "execution_count": 80,
   "metadata": {},
   "outputs": [
    {
     "name": "stdout",
     "output_type": "stream",
     "text": [
      "Logistic Regression Accuracy: 63.16, Logistic Regression Precision: 63.26, Logistic Regression Recall: 63.16, Logistic Regression F1-Score: 61.51\n"
     ]
    }
   ],
   "source": [
    "lr = LogisticRegression(featuresCol=\"features\", labelCol=\"label\", maxIter=10, regParam=0.01)\n",
    "lr_fitted_model = lr.fit(train)\n",
    "predictions = lr_fitted_model.transform(test)\n",
    "f1 = MulticlassClassificationEvaluator(metricName = 'f1')\n",
    "acc = MulticlassClassificationEvaluator(metricName = 'accuracy')\n",
    "prec = MulticlassClassificationEvaluator(metricName = 'weightedPrecision')\n",
    "rec = MulticlassClassificationEvaluator(metricName = 'weightedRecall')\n",
    "lr_f1_score = f1.evaluate(predictions)\n",
    "lr_acc_score = acc.evaluate(predictions)\n",
    "lr_prec_score = prec.evaluate(predictions)\n",
    "lr_rec_score = rec.evaluate(predictions)\n",
    "print('Logistic Regression Accuracy: {}, Logistic Regression Precision: {}, Logistic Regression Recall: {}, Logistic Regression F1-Score: {}'.format(round(lr_acc_score*100,2),round(lr_prec_score*100,2),round(lr_rec_score*100,2),round(lr_f1_score*100,2)))"
   ]
  },
  {
   "cell_type": "code",
   "execution_count": 81,
   "metadata": {},
   "outputs": [
    {
     "name": "stdout",
     "output_type": "stream",
     "text": [
      "SVM Accuracy: 68.42, SVM Precision: 74.0, SVM Recall: 68.42, SVM F1-Score: 64.88\n"
     ]
    }
   ],
   "source": [
    "svm = LinearSVC(featuresCol=\"features\", labelCol=\"label\", maxIter=10, regParam=0.1)\n",
    "svm_fitted_model = svm.fit(train)\n",
    "predictions = svm_fitted_model.transform(test)\n",
    "f1 = MulticlassClassificationEvaluator(metricName = 'f1')\n",
    "acc = MulticlassClassificationEvaluator(metricName = 'accuracy')\n",
    "prec = MulticlassClassificationEvaluator(metricName = 'weightedPrecision')\n",
    "rec = MulticlassClassificationEvaluator(metricName = 'weightedRecall')\n",
    "svm_f1_score = f1.evaluate(predictions)\n",
    "svm_acc_score = acc.evaluate(predictions)\n",
    "svm_prec_score = prec.evaluate(predictions)\n",
    "svm_rec_score = rec.evaluate(predictions)\n",
    "print('SVM Accuracy: {}, SVM Precision: {}, SVM Recall: {}, SVM F1-Score: {}'.format(round(svm_acc_score*100,2),round(svm_prec_score*100,2),round(svm_rec_score*100,2),round(svm_f1_score*100,2)))"
   ]
  },
  {
   "cell_type": "markdown",
   "metadata": {},
   "source": [
    "From the above executions and evaluations we will choosse as better performant algorythm the GBT one. \n",
    "This is the algorythm that we will use for the calculation of the churn score with these KPIs.\n",
    "\n",
    "Of course, the next step is to evaluate and validate the results running the code on the full dataset.\n",
    "If we are happy with the results we can deploy the churn calculation algorythm in production"
   ]
  },
  {
   "cell_type": "markdown",
   "metadata": {},
   "source": [
    "# Final Steps\n",
    "Clean up your code, adding comments and renaming variables to make the code easier to read and maintain. Refer to the Spark Project Overview page and Data Scientist Capstone Project Rubric to make sure you are including all components of the capstone project and meet all expectations. Remember, this includes thorough documentation in a README file in a Github repository, as well as a web app or blog post."
   ]
  },
  {
   "cell_type": "code",
   "execution_count": null,
   "metadata": {},
   "outputs": [],
   "source": []
  }
 ],
 "metadata": {
  "kernelspec": {
   "display_name": "Python 3",
   "language": "python",
   "name": "python3"
  },
  "language_info": {
   "codemirror_mode": {
    "name": "ipython",
    "version": 3
   },
   "file_extension": ".py",
   "mimetype": "text/x-python",
   "name": "python",
   "nbconvert_exporter": "python",
   "pygments_lexer": "ipython3",
   "version": "3.6.3"
  }
 },
 "nbformat": 4,
 "nbformat_minor": 2
}
